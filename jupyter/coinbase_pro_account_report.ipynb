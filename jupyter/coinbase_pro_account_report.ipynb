{
 "cells": [
  {
   "cell_type": "markdown",
   "id": "338bf8c6-f616-4d27-b47e-779025ddfed9",
   "metadata": {},
   "source": [
    "## Coinbase Pro (GDAX) Account Report.\n",
    "Contains information about all orders (buys,sells,trades) made using, and transfers into an out of, the Coinbase Pro (formerly GDAX) platform.\n",
    "### How to get:\n",
    "- login to Coinbase.com\n",
    "- Go to: https://accounts.coinbase.com/profile \n",
    "- Select \"statements\"\n",
    "- Click on the \"Coinbase Pro\" tab\n",
    "- \"Generate custom report\" with:\n",
    "    - \"account\"\n",
    "    - \"all portfolios\"\n",
    "    - \"all accounts\"\n",
    "    - Select the desired year\n"
   ]
  },
  {
   "cell_type": "markdown",
   "id": "1c150a74-da50-475e-be95-70a487bcb063",
   "metadata": {},
   "source": [
    "\n",
    "#### Record types\n",
    "\n",
    "- deposit: Crypto or money has been deposited in the trading (GDAX/Pro) account. Always (I think) from Coinbase. Corresponds to a \"Pro/Exchange Deposit\" in the Coinbase tx report.\n",
    "- withdrawal: Crypto or money move FROM Pro/GDAX to coinbase. Shown as a \"Pro/Exchange Withdrawal\" in the CB tx report.\n",
    "\n",
    "An \"order\" consists of 2 \"match\" records and a \"fee\" record:\n",
    "- match: Describes one of the 2 assets (including USD) involved in a sale/trade. Include the asset name and amount. THe sign of the amount tell which way the trade/sale is going. (<0 means it is outgoing, >0 is incoming)\n",
    "- fee: Often 0, the amount and currency of any fee charged.\n",
    "\n",
    "### Notes\n",
    "\n",
    "An \"order\" is any trade, purchase, or sale that has occurred. A single order (\"sell 3 BTC for USD\") may have been performed by executing multiple smaller \"trades\" - but it's the order we are interested.\n",
    "\n",
    "This code will parse the report and assemble a list of `OrderInfo` instances describing the orders.\n",
    "\n",
    "All of the records for a given order have the same \"order id\" field entry.\n",
    "\n",
    "There will be at least 1, and may be many, \"trades\" in an order. All records for a given trade will have the same \"trade id\" value.\n",
    "\n",
    "Every trade cosists of 2 \"match\" records, one with a positive \"amount\" which represents the item received, and another with a negative \"amount\", representing the item or currency paid of given in exchange.\n",
    "\n",
    "A trade may or may not have a \"fee\" record - describing any fee paid.\n",
    "\n",
    "For each order we want:\n",
    "\n",
    "- market:        'BTC-USD', for instance\n",
    "- timestamp:     the timestamp of the latest executed trade (arbitrary choice, in reality)\n",
    "- order_id:      the coinbase order ID\n",
    "- unit_given:     what was sold/given? ('BTC', 'ETH'...)\n",
    "- amount_given:   the amount of the currency being sold\n",
    "- unit_received: payment unit ( 'USD', USDC, ETH... )\n",
    "- amount_received: the amount received in the trades (no fees)\n",
    "- unit_price:    In practice this is calculated as (amount_received / amount_given) \n",
    "- fees_paid:     the total fees for the order\n"
   ]
  },
  {
   "cell_type": "code",
   "execution_count": null,
   "id": "01cfc587-55b5-44c1-a8c2-ec9e477106d8",
   "metadata": {},
   "outputs": [],
   "source": [
    "# allow import of local fifo-tool stuff\n",
    "import os\n",
    "import sys\n",
    "sys.path.insert(0, os.path.abspath('../src'))"
   ]
  },
  {
   "cell_type": "code",
   "execution_count": null,
   "id": "73144925-dabc-4199-96e3-efcb4206edc9",
   "metadata": {},
   "outputs": [],
   "source": [
    "from typing import Dict,List\n",
    "from datetime import datetime\n",
    "import json\n",
    "import numpy as np\n",
    "import pandas as pd\n",
    "\n",
    "from models.acquisition import Acquisition\n",
    "from models.disposition import Disposition\n",
    "from models.stash import Stash"
   ]
  },
  {
   "cell_type": "code",
   "execution_count": null,
   "id": "8b70aba8-1242-45a3-895f-6562663c6bea",
   "metadata": {},
   "outputs": [],
   "source": [
    "\n"
   ]
  },
  {
   "cell_type": "code",
   "execution_count": null,
   "id": "96651bb8-7eba-4a48-b5fe-cd6646343113",
   "metadata": {},
   "outputs": [],
   "source": [
    "def read_report_csv(file_path):\n",
    "    \"\"\"Read a coinbase pro 'accounts' report and return a pandas dataframe.\n",
    "        conversions done:\n",
    "            'time' - parsed into a datestamp\n",
    "            'trade id' - read as a string\n",
    "    \"\"\"\n",
    "    date_flds = ['time']\n",
    "    forced_dtypes = {'trade id': str}\n",
    "    return pd.read_csv(file_path, skiprows=0, parse_dates=date_flds, dtype=forced_dtypes)\n"
   ]
  },
  {
   "cell_type": "code",
   "execution_count": null,
   "id": "f8fc489b-cc05-4851-ac97-12181a0e1a0e",
   "metadata": {},
   "outputs": [],
   "source": [
    "#help(pd.read_csv)"
   ]
  },
  {
   "cell_type": "code",
   "execution_count": null,
   "id": "b89912f1-3ea8-4eb8-93f4-4598ae2f5b21",
   "metadata": {},
   "outputs": [],
   "source": [
    "def get_orders(accounts_rpt):\n",
    "    \"\"\"Given a report dataframe, select the appropriate records and group them\n",
    "        into per-order dataframes. Return a list of them\n",
    "    \"\"\"\n",
    "    mask = (accounts_rpt['type']=='match') | (accounts_rpt['type']=='fee')\n",
    "    matches = accounts_rpt[mask] # get the matches and fees\n",
    "    orders_df = matches.groupby('order id') # group into orders\n",
    "    orders = [orders_df.get_group(id) for id in  orders_df.groups.keys()]\n",
    "    return orders\n"
   ]
  },
  {
   "cell_type": "code",
   "execution_count": null,
   "id": "85ac96b9-2722-4029-bafb-e6b06ca7b302",
   "metadata": {},
   "outputs": [],
   "source": [
    "\n",
    "class CbProOrderInfo:\n",
    "\n",
    "    def __init__(self, order_id: str, timestamp: float, unit_given: str,\n",
    "                unit_received: str, amount_given: float, amount_received: float,\n",
    "                unit_price: float,  fees: float) -> \"OrderInfo\":\n",
    "        self.order_id: str = order_id\n",
    "        self.timestamp: float = timestamp\n",
    "        self.unit_given: str = unit_given\n",
    "        self.unit_received: str = unit_received\n",
    "        self.amount_given = amount_given\n",
    "        self.amount_received = amount_received\n",
    "        self.unit_price = unit_price\n",
    "        self.fees = fees\n",
    "\n",
    "    def to_json_dict(self) -> Dict:\n",
    "        return  {\n",
    "            \"order_id\": self.order_id,\n",
    "            \"timestamp\": self.timestamp,\n",
    "            \"unit_given\": self.unit_given,\n",
    "            \"unit_received\": self.unit_received,\n",
    "            \"amount_given\": self.amount_given,\n",
    "            \"amount_received\": self.amount_received,\n",
    "            \"unit_price\": self.unit_price,\n",
    "            \"fees\": self.fees\n",
    "        }\n",
    "\n",
    "    def to_disposition(self, asset) -> 'Disposition':\n",
    "        assert self.unit_given == asset, f'Order is not a {asset} disposition'\n",
    "        return Disposition(\n",
    "            self.timestamp,\n",
    "            self.unit_given, # asset_type sold\n",
    "            self.amount_given, # asset_amount\n",
    "            self.unit_price, # asset_price,\n",
    "            self.fees, # fees\n",
    "            f'CB Pro Order Id: {self.order_id}', # reference\n",
    "            \"\" #comment\n",
    "        )\n",
    "\n",
    "    def to_acquisition(self, asset) -> 'Acquisition':\n",
    "        assert self.unit_received == asset, f'Order is not a {asset} acquisition'\n",
    "        return Acquisition(\n",
    "            self.timestamp,\n",
    "            self.unit_received, # asset_type bought\n",
    "            self.amount_received, # asset_amount\n",
    "            self.unit_price, # asset_price,\n",
    "            self.fees, # fees\n",
    "            f'CB Pro Order Id: {self.order_id}', # reference            \n",
    "            \"\" #comment\n",
    "        )\n",
    "\n",
    "def parse_order(order, asset):\n",
    "    \"\"\" Parse the trades in an order dataframe.\n",
    "\n",
    "        returns a CbProOrderInfo instance if the order involves the given asset\n",
    "        An order is a DataFrame\n",
    "\n",
    "    \"\"\"\n",
    "    ID_LBL = 'order id'\n",
    "    UNIT_LBL = 'amount/balance unit'\n",
    "    order_id = order[ID_LBL].values[0]  # is in every record\n",
    "    timestamp = max(order['time']).timestamp()\n",
    "    # matches are about the item, fees are about fees\n",
    "    matches = order[order['type'] == 'match']\n",
    "    fees =  order[order['type'] == 'fee']\n",
    "\n",
    "    # The item being received (bought, usually) has a positive amount, \n",
    "    # the one given has a negative one\n",
    "    units = np.unique(order[UNIT_LBL].values) \n",
    "    # units 2-element array containing the 2 units\n",
    "    mask0 = order[UNIT_LBL] == units[0]\n",
    "    mask1 = order[UNIT_LBL] == units[1]\n",
    "    amounts = (order[mask0]['amount'].values.sum(), order[mask1]['amount'].values.sum())\n",
    "    # we are going to assume that 1 of the amounts is negative, the oher positive\n",
    "    (given_idx, rcvd_idx) = (0,1) if amounts[1]>0 else (1,0)\n",
    "    unit_given = units[given_idx]\n",
    "    amount_given = abs(amounts[given_idx])\n",
    "    unit_received = units[rcvd_idx]\n",
    "    amount_received = abs(amounts[rcvd_idx])\n",
    "    # \"price\" is always cash/asset, so we do need to know whether received or given is the asset\n",
    "    if unit_given == asset:    \n",
    "        unit_price = amount_received/amount_given # we sold crypto\n",
    "    else:\n",
    "        unit_price = amount_given/amount_received # we bought crypto\n",
    "    fees = abs(fees['amount'].sum()) # fees are reported as < 0. We ALWAYS want to describe a fee as positive\n",
    "    if unit_given == asset or unit_received == asset:  # ignore if it's  not the asset we're tracking \n",
    "        return CbProOrderInfo(order_id, timestamp, unit_given, unit_received,\n",
    "                              amount_given, amount_received, unit_price, fees)\n",
    "    else:\n",
    "        return None\n",
    "\n"
   ]
  },
  {
   "cell_type": "code",
   "execution_count": null,
   "id": "55ba0b26-ecec-4bb2-9ece-9cb71d9ff06b",
   "metadata": {},
   "outputs": [],
   "source": []
  },
  {
   "cell_type": "code",
   "execution_count": null,
   "id": "7c2db17e-dac2-48ca-a4eb-9bbd23be430e",
   "metadata": {},
   "outputs": [],
   "source": []
  },
  {
   "cell_type": "code",
   "execution_count": null,
   "id": "8a2d73e6-1fe4-43b3-b7dd-0557dbd4d012",
   "metadata": {},
   "outputs": [],
   "source": [
    "def process_file( year: str, assets: List[str]) -> None:\n",
    "    filebase = f'local_data/cbpro-account-{year}'\n",
    "    main_df = read_report_csv(filebase+'.csv')\n",
    "    orders = get_orders(main_df)\n",
    "    \n",
    "    for asset in assets:\n",
    "        infos = [i for i in [parse_order(o, asset) for o in orders] if i] # filter out Nones\n",
    "        acqs = []\n",
    "        disps = []\n",
    "        for info in infos:\n",
    "            if info.unit_given == asset:  # it's a sale/disposition\n",
    "                disps.append( info.to_disposition(asset) )\n",
    "                #print(\"Disp!\")\n",
    "            else: # purchase/acquisition\n",
    "                acqs.append( info.to_acquisition(asset) )\n",
    "                #print(\"Acq!\")\n",
    "        data = Stash(asset, f\"Coinbase Pro {asset} orders - {year}\", acqs, disps)\n",
    "        \n",
    "        #json.dumps(jd)\n",
    "        with open(filebase+f'-{asset}.json', 'w') as f:\n",
    "            jd = data.to_json_dict()\n",
    "            json.dump(jd, f, indent=2)"
   ]
  },
  {
   "cell_type": "code",
   "execution_count": null,
   "id": "a19a9e96-f623-4ccb-9183-dca53b743753",
   "metadata": {},
   "outputs": [],
   "source": [
    "for yr in ['2015', '2016', '2017', '2018', '2019', '2020', '2021', '2022', '2023', '2024']:\n",
    "    process_file(yr, ['BTC', 'ETH'] ) "
   ]
  },
  {
   "cell_type": "code",
   "execution_count": null,
   "id": "8b9a1a47-5f9c-4b12-ac55-37bb2fd9eaa0",
   "metadata": {},
   "outputs": [],
   "source": [
    "\n"
   ]
  },
  {
   "cell_type": "code",
   "execution_count": null,
   "id": "5a0b66d9-7e02-4565-8a76-38d9ec013cb1",
   "metadata": {},
   "outputs": [],
   "source": []
  },
  {
   "cell_type": "code",
   "execution_count": null,
   "id": "09211eb6-cf0a-417f-adf1-bd519486f22a",
   "metadata": {},
   "outputs": [],
   "source": [
    "# Working/testing/messing about starts here"
   ]
  },
  {
   "cell_type": "code",
   "execution_count": null,
   "id": "4c65e339-1363-4ad8-b201-c07ce4efa891",
   "metadata": {},
   "outputs": [],
   "source": []
  },
  {
   "cell_type": "code",
   "execution_count": null,
   "id": "81f53cfa-8317-42c3-86ea-3101aa979f25",
   "metadata": {},
   "outputs": [],
   "source": []
  },
  {
   "cell_type": "code",
   "execution_count": null,
   "id": "abe20074-612d-4410-882a-ffa4ffac5185",
   "metadata": {},
   "outputs": [],
   "source": [
    "o = orders[2]\n",
    "infos[0].to_json_dict()"
   ]
  },
  {
   "cell_type": "code",
   "execution_count": null,
   "id": "f2cb63e5-d521-4f09-881b-e43be0a80b6c",
   "metadata": {},
   "outputs": [],
   "source": [
    "#matches = o[o['type']=='match']\n",
    "#matches"
   ]
  },
  {
   "cell_type": "code",
   "execution_count": null,
   "id": "27127aea-054a-46b8-b3a0-e424bbc1adb8",
   "metadata": {},
   "outputs": [],
   "source": [
    "units = np.unique(o['amount/balance unit'].values)\n",
    "units"
   ]
  },
  {
   "cell_type": "code",
   "execution_count": null,
   "id": "f4a2b0ce-1061-45d0-b270-64c4338ffa6d",
   "metadata": {},
   "outputs": [],
   "source": [
    "o['order id'].values[0] # order id"
   ]
  },
  {
   "cell_type": "code",
   "execution_count": null,
   "id": "400f118c-ea9e-4ed0-a4f0-c46e85599702",
   "metadata": {},
   "outputs": [],
   "source": [
    "mask0 = o['amount/balance unit'] == units[0]\n",
    "mask1 = o['amount/balance unit'] == units[1]\n",
    "o[mask0]['amount'].values.sum(),  o[mask1]['amount'].values.sum(),"
   ]
  },
  {
   "cell_type": "code",
   "execution_count": null,
   "id": "be084070-52c7-4dce-a412-063697eb4e27",
   "metadata": {},
   "outputs": [],
   "source": [
    "o['amount/balance unit'].values[1] # currency used"
   ]
  },
  {
   "cell_type": "code",
   "execution_count": null,
   "id": "a97d6076-f86e-446a-9240-ccbab716a9b2",
   "metadata": {},
   "outputs": [],
   "source": [
    "max(o['time']) # timestamp"
   ]
  },
  {
   "cell_type": "code",
   "execution_count": null,
   "id": "027f6459-0e8a-4349-a89e-03df29fdb112",
   "metadata": {},
   "outputs": [],
   "source": [
    "btc_mask = o['amount/balance unit']=='BTC'"
   ]
  },
  {
   "cell_type": "code",
   "execution_count": null,
   "id": "311d5640-0876-42a4-9fb5-5d37ea64ae11",
   "metadata": {},
   "outputs": [],
   "source": [
    "o[btc_mask]['amount'].sum() # amount of BTC"
   ]
  },
  {
   "cell_type": "code",
   "execution_count": null,
   "id": "e3b5c580-03bd-4db5-b9d8-608b0a3afb94",
   "metadata": {},
   "outputs": [],
   "source": [
    "o[~btc_mask]['amount'].sum() # amount of $"
   ]
  },
  {
   "cell_type": "code",
   "execution_count": null,
   "id": "1bb16b35-c471-4b54-8845-62245f8fa841",
   "metadata": {},
   "outputs": [],
   "source": [
    "[ o[o['amount/balance unit']!='BTC']['amount'].sum() for o in orders]"
   ]
  },
  {
   "cell_type": "code",
   "execution_count": null,
   "id": "ffd377a1-7f7e-4541-a1eb-0e1edcc2467b",
   "metadata": {},
   "outputs": [],
   "source": [
    "mask1 = main_df['type']=='match'"
   ]
  },
  {
   "cell_type": "code",
   "execution_count": null,
   "id": "b83a85b8-67b0-4180-8836-8ae2ccfafd2a",
   "metadata": {},
   "outputs": [],
   "source": [
    "mask2 = main_df['type']=='fee'"
   ]
  },
  {
   "cell_type": "code",
   "execution_count": null,
   "id": "6e44558f-f972-4b57-a92c-25632ba05521",
   "metadata": {},
   "outputs": [],
   "source": []
  },
  {
   "cell_type": "code",
   "execution_count": null,
   "id": "98247452-4725-4930-8311-9732de8bc0f4",
   "metadata": {},
   "outputs": [],
   "source": [
    "mask1.value_counts()"
   ]
  },
  {
   "cell_type": "code",
   "execution_count": null,
   "id": "cd082df6-1ce2-4f0b-b689-9fc52fbf3d5e",
   "metadata": {},
   "outputs": [],
   "source": [
    "mask2.value_counts()"
   ]
  },
  {
   "cell_type": "code",
   "execution_count": null,
   "id": "4fc35f2c-b03c-4b0c-865f-79558d718070",
   "metadata": {},
   "outputs": [],
   "source": [
    "foo = mask1 | mask2\n",
    "foo.values, foo.value_counts()"
   ]
  },
  {
   "cell_type": "code",
   "execution_count": null,
   "id": "2d0ff8a6-16e7-4388-a592-c9118612d01f",
   "metadata": {},
   "outputs": [],
   "source": [
    "mask1.values"
   ]
  },
  {
   "cell_type": "code",
   "execution_count": null,
   "id": "fee070ac-4ea4-42b4-a8ac-eaf14f1763b8",
   "metadata": {},
   "outputs": [],
   "source": [
    "mask2.values"
   ]
  },
  {
   "cell_type": "code",
   "execution_count": null,
   "id": "6017d587-d4ed-4999-a87d-362c0958de66",
   "metadata": {},
   "outputs": [],
   "source": [
    "foo.values"
   ]
  },
  {
   "cell_type": "code",
   "execution_count": null,
   "id": "a5220de6-6c8c-4a1c-9ada-9732b650555c",
   "metadata": {},
   "outputs": [],
   "source": []
  }
 ],
 "metadata": {
  "kernelspec": {
   "display_name": "Python 3 (ipykernel)",
   "language": "python",
   "name": "python3"
  },
  "language_info": {
   "codemirror_mode": {
    "name": "ipython",
    "version": 3
   },
   "file_extension": ".py",
   "mimetype": "text/x-python",
   "name": "python",
   "nbconvert_exporter": "python",
   "pygments_lexer": "ipython3",
   "version": "3.11.8"
  }
 },
 "nbformat": 4,
 "nbformat_minor": 5
}
