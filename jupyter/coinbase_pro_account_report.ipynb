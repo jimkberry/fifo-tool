{
 "cells": [
  {
   "cell_type": "markdown",
   "id": "338bf8c6-f616-4d27-b47e-779025ddfed9",
   "metadata": {},
   "source": [
    "## Coinbase Pro (GDAX) Account Report.\n",
    "Contains information about all orders (buys,sells,trades) made using, and transfers into an out of, the Coinbase Pro (formerly GDAX) platform.\n",
    "### How to get:\n",
    "- login to Coinbase.com\n",
    "- Go to: https://accounts.coinbase.com/profile \n",
    "- Select \"statements\"\n",
    "- Click on the \"Coinbase Pro\" tab\n",
    "- \"Generate custom report\" with:\n",
    "    - \"account\"\n",
    "    - \"all portfolios\"\n",
    "    - \"all accounts\"\n",
    "    - Select the desired year\n"
   ]
  },
  {
   "cell_type": "markdown",
   "id": "1c150a74-da50-475e-be95-70a487bcb063",
   "metadata": {},
   "source": [
    "\n",
    "An \"order\" is any trade, purchase, or sale that has occurred. A single order (\"sell 3 BTC for USD\") may have been performed by executing multiple smaller \"trades\" - but it's the order we are interested.\n",
    "\n",
    "This code will parse the report and assemble a list of `OrderInfo` instances describing the orders.\n",
    "\n",
    "All of the records for a given order have the same \"order id\" field entry.\n",
    "\n",
    "There will be at least 1, and may be many, \"trades\" in an order. All records for a given trade will have the same \"trade id\" value.\n",
    "\n",
    "Every trade cosists of 2 \"match\" records, one with a positive \"amount\" which represents the item received, and another with a negative \"amount\", representing the item or currency paid of given in exchange.\n",
    "\n",
    "A trade may or may not have a \"fee\" record - describing any fee paid.\n",
    "\n",
    "For each order we want:\n",
    "\n",
    "- market:        'BTC-USD', for instance\n",
    "- timestamp:     the timestamp of the latest executed trade (arbitrary choice, in reality)\n",
    "- order_id:      the coinbase order ID\n",
    "- unit_given:     what was sold/given? ('BTC', 'ETH'...)\n",
    "- amount_given:   the amount of the currency being sold\n",
    "- unit_received: payment unit ( 'USD', USDC, ETH... )\n",
    "- amount_received: the amount received in the trades (no fees)\n",
    "- unit_price:    In practice this is calculated as (amount_received / amount_given) \n",
    "- fees_paid:     the total fees for the order\n"
   ]
  },
  {
   "cell_type": "code",
   "execution_count": 1,
   "id": "01cfc587-55b5-44c1-a8c2-ec9e477106d8",
   "metadata": {},
   "outputs": [],
   "source": [
    "# allow import of local fifo-tool stuff\n",
    "import os\n",
    "import sys\n",
    "sys.path.insert(0, os.path.abspath('../src'))"
   ]
  },
  {
   "cell_type": "code",
   "execution_count": 2,
   "id": "73144925-dabc-4199-96e3-efcb4206edc9",
   "metadata": {},
   "outputs": [],
   "source": [
    "from typing import Dict,List\n",
    "from datetime import datetime\n",
    "import json\n",
    "import numpy as np\n",
    "import pandas as pd\n",
    "\n",
    "from models.acquisition import Acquisition\n",
    "from models.disposition import Disposition\n",
    "from models.stash import Stash"
   ]
  },
  {
   "cell_type": "code",
   "execution_count": null,
   "id": "8b70aba8-1242-45a3-895f-6562663c6bea",
   "metadata": {},
   "outputs": [],
   "source": [
    "\n"
   ]
  },
  {
   "cell_type": "code",
   "execution_count": 3,
   "id": "96651bb8-7eba-4a48-b5fe-cd6646343113",
   "metadata": {},
   "outputs": [],
   "source": [
    "def read_report_csv(file_path):\n",
    "    \"\"\"Read a coinbase pro 'accounts' report and return a pandas dataframe.\n",
    "        conversions done:\n",
    "            'time' - parsed into a datestamp\n",
    "            'trade id' - read as a string\n",
    "    \"\"\"\n",
    "    date_flds = ['time']\n",
    "    forced_dtypes = {'trade id': str}\n",
    "    return pd.read_csv(file_path, skiprows=0, parse_dates=date_flds, dtype=forced_dtypes)\n"
   ]
  },
  {
   "cell_type": "code",
   "execution_count": 4,
   "id": "f8fc489b-cc05-4851-ac97-12181a0e1a0e",
   "metadata": {},
   "outputs": [],
   "source": [
    "#help(pd.read_csv)"
   ]
  },
  {
   "cell_type": "code",
   "execution_count": 5,
   "id": "b89912f1-3ea8-4eb8-93f4-4598ae2f5b21",
   "metadata": {},
   "outputs": [],
   "source": [
    "def get_orders(accounts_rpt):\n",
    "    \"\"\"Given a report dataframe, select the appropriate records and group them\n",
    "        into per-order dataframes. Return a list of them\n",
    "    \"\"\"\n",
    "    mask = (accounts_rpt['type']=='match') | (accounts_rpt['type']=='fee')\n",
    "    matches = accounts_rpt[mask] # get the matches and fees\n",
    "    orders_df = matches.groupby('order id') # group into orders\n",
    "    orders = [orders_df.get_group(id) for id in  orders_df.groups.keys()]\n",
    "    return orders\n"
   ]
  },
  {
   "cell_type": "code",
   "execution_count": 10,
   "id": "85ac96b9-2722-4029-bafb-e6b06ca7b302",
   "metadata": {},
   "outputs": [],
   "source": [
    "\n",
    "class CbProOrderInfo:\n",
    "\n",
    "    def __init__(self, order_id: str, timestamp: float, unit_given: str,\n",
    "                unit_received: str, amount_given: float, amount_received: float,\n",
    "                unit_price: float,  fees: float) -> \"OrderInfo\":\n",
    "        self.order_id: str = order_id\n",
    "        self.timestamp: float = timestamp\n",
    "        self.unit_given: str = unit_given\n",
    "        self.unit_received: str = unit_received\n",
    "        self.amount_given = amount_given\n",
    "        self.amount_received = amount_received\n",
    "        self.unit_price = unit_price\n",
    "        self.fees = fees\n",
    "\n",
    "    def to_json_dict(self) -> Dict:\n",
    "        return  {\n",
    "            \"order_id\": self.order_id,\n",
    "            \"timestamp\": self.timestamp,\n",
    "            \"unit_given\": self.unit_given,\n",
    "            \"unit_received\": self.unit_received,\n",
    "            \"amount_given\": self.amount_given,\n",
    "            \"amount_received\": self.amount_received,\n",
    "            \"unit_price\": self.unit_price,\n",
    "            \"fees\": self.fees\n",
    "        }\n",
    "\n",
    "    def to_disposition(self, asset) -> 'Disposition':\n",
    "        assert self.unit_given == asset, f'Order is not a {asset} disposition'\n",
    "        return Disposition(\n",
    "            self.timestamp,\n",
    "            self.unit_given, # asset_type sold\n",
    "            self.amount_given, # asset_amount\n",
    "            self.unit_price, # asset_price,\n",
    "            self.fees, # fees\n",
    "            f'CB Pro Order Id: {self.order_id}', # reference\n",
    "            \"\" #comment\n",
    "        )\n",
    "\n",
    "    def to_acquisition(self, asset) -> 'Acquisition':\n",
    "        assert self.unit_received == asset, f'Order is not a {asset} acquisition'\n",
    "        return Acquisition(\n",
    "            self.timestamp,\n",
    "            self.unit_received, # asset_type bought\n",
    "            self.amount_received, # asset_amount\n",
    "            self.unit_price, # asset_price,\n",
    "            self.fees, # fees\n",
    "            f'CB Pro Order Id: {self.order_id}', # reference            \n",
    "            \"\" #comment\n",
    "        )\n",
    "\n",
    "def parse_order(order, asset):\n",
    "    \"\"\" Parse the trades in an order dataframe.\n",
    "\n",
    "        returns a CbProOrderInfo instance if the order involves the given asset\n",
    "        An order is a DataFrame\n",
    "\n",
    "    \"\"\"\n",
    "    ID_LBL = 'order id'\n",
    "    UNIT_LBL = 'amount/balance unit'\n",
    "    order_id = order[ID_LBL].values[0]  # is in every record\n",
    "    timestamp = max(order['time']).timestamp()\n",
    "    # matches are about the item, fees are about fees\n",
    "    matches = order[order['type'] == 'match']\n",
    "    fees =  order[order['type'] == 'fee']\n",
    "\n",
    "    # The item being received (bought, usually) has a positive amount, \n",
    "    # the one given has a negative one\n",
    "    units = np.unique(order[UNIT_LBL].values) \n",
    "    # units 2-element array containing the 2 units\n",
    "    mask0 = order[UNIT_LBL] == units[0]\n",
    "    mask1 = order[UNIT_LBL] == units[1]\n",
    "    amounts = (order[mask0]['amount'].values.sum(), order[mask1]['amount'].values.sum())\n",
    "    # we are going to assume that 1 of the amounts is negative, the oher positive\n",
    "    (given_idx, rcvd_idx) = (0,1) if amounts[1]>0 else (1,0)\n",
    "    unit_given = units[given_idx]\n",
    "    amount_given = abs(amounts[given_idx])\n",
    "    unit_received = units[rcvd_idx]\n",
    "    amount_received = abs(amounts[rcvd_idx])\n",
    "    # \"price\" is always cash/asset, so we do need to know whether received or given is the asset\n",
    "    if unit_given == asset:    \n",
    "        unit_price = amount_received/amount_given # we sold crypto\n",
    "    else:\n",
    "        unit_price = amount_given/amount_received # we bought crypto\n",
    "    fees = abs(fees['amount'].sum()) # fees are reported as < 0\n",
    "    if unit_given == asset or unit_received == asset:  # ignore if it's  not the asset we're tracking \n",
    "        return CbProOrderInfo(order_id, timestamp, unit_given, unit_received,\n",
    "                              amount_given, amount_received, unit_price, fees)\n",
    "    else:\n",
    "        return None\n",
    "\n"
   ]
  },
  {
   "cell_type": "code",
   "execution_count": null,
   "id": "55ba0b26-ecec-4bb2-9ece-9cb71d9ff06b",
   "metadata": {},
   "outputs": [],
   "source": []
  },
  {
   "cell_type": "code",
   "execution_count": null,
   "id": "7c2db17e-dac2-48ca-a4eb-9bbd23be430e",
   "metadata": {},
   "outputs": [],
   "source": []
  },
  {
   "cell_type": "code",
   "execution_count": 11,
   "id": "8a2d73e6-1fe4-43b3-b7dd-0557dbd4d012",
   "metadata": {},
   "outputs": [],
   "source": [
    "def process_file( year: str, assets: List[str]) -> None:\n",
    "    filebase = f'local_data/cbpro-account-{year}'\n",
    "    main_df = read_report_csv(filebase+'.csv')\n",
    "    orders = get_orders(main_df)\n",
    "    \n",
    "    for asset in assets:\n",
    "        infos = [i for i in [parse_order(o, asset) for o in orders] if i] # filter out Nones\n",
    "        acqs = []\n",
    "        disps = []\n",
    "        for info in infos:\n",
    "            if info.unit_given == asset:  # it's a sale/disposition\n",
    "                disps.append( info.to_disposition(asset) )\n",
    "                #print(\"Disp!\")\n",
    "            else: # purchase/acquisition\n",
    "                acqs.append( info.to_acquisition(asset) )\n",
    "                #print(\"Acq!\")\n",
    "        data = Stash(asset, f\"Coinbase Pro {asset} orders - {year}\", acqs, disps)\n",
    "        \n",
    "        #json.dumps(jd)\n",
    "        with open(filebase+f'-{asset}.json', 'w') as f:\n",
    "            jd = data.to_json_dict()\n",
    "            json.dump(jd, f, indent=2)"
   ]
  },
  {
   "cell_type": "code",
   "execution_count": 12,
   "id": "a19a9e96-f623-4ccb-9183-dca53b743753",
   "metadata": {},
   "outputs": [],
   "source": [
    "for yr in ['2015', '2016', '2017', '2018', '2019', '2020', '2021', '2022', '2023']:\n",
    "    process_file(yr, ['BTC', 'ETH'] ) "
   ]
  },
  {
   "cell_type": "code",
   "execution_count": null,
   "id": "8b9a1a47-5f9c-4b12-ac55-37bb2fd9eaa0",
   "metadata": {},
   "outputs": [],
   "source": [
    "\n"
   ]
  },
  {
   "cell_type": "code",
   "execution_count": null,
   "id": "5a0b66d9-7e02-4565-8a76-38d9ec013cb1",
   "metadata": {},
   "outputs": [],
   "source": []
  },
  {
   "cell_type": "code",
   "execution_count": 28,
   "id": "09211eb6-cf0a-417f-adf1-bd519486f22a",
   "metadata": {},
   "outputs": [],
   "source": [
    "# Working/testing/messing about starts here"
   ]
  },
  {
   "cell_type": "code",
   "execution_count": 24,
   "id": "4c65e339-1363-4ad8-b201-c07ce4efa891",
   "metadata": {},
   "outputs": [
    {
     "data": {
      "text/html": [
       "<div>\n",
       "<style scoped>\n",
       "    .dataframe tbody tr th:only-of-type {\n",
       "        vertical-align: middle;\n",
       "    }\n",
       "\n",
       "    .dataframe tbody tr th {\n",
       "        vertical-align: top;\n",
       "    }\n",
       "\n",
       "    .dataframe thead th {\n",
       "        text-align: right;\n",
       "    }\n",
       "</style>\n",
       "<table border=\"1\" class=\"dataframe\">\n",
       "  <thead>\n",
       "    <tr style=\"text-align: right;\">\n",
       "      <th></th>\n",
       "      <th>portfolio</th>\n",
       "      <th>type</th>\n",
       "      <th>time</th>\n",
       "      <th>amount</th>\n",
       "      <th>balance</th>\n",
       "      <th>amount/balance unit</th>\n",
       "      <th>transfer id</th>\n",
       "      <th>trade id</th>\n",
       "      <th>order id</th>\n",
       "    </tr>\n",
       "  </thead>\n",
       "  <tbody>\n",
       "    <tr>\n",
       "      <th>0</th>\n",
       "      <td>default</td>\n",
       "      <td>deposit</td>\n",
       "      <td>2020-08-21 03:15:15.538000+00:00</td>\n",
       "      <td>100.000000</td>\n",
       "      <td>100.006403</td>\n",
       "      <td>USD</td>\n",
       "      <td>cae094cd-f0c6-4ee2-b5b2-e1b6de564b11</td>\n",
       "      <td>NaN</td>\n",
       "      <td>NaN</td>\n",
       "    </tr>\n",
       "    <tr>\n",
       "      <th>1</th>\n",
       "      <td>default</td>\n",
       "      <td>deposit</td>\n",
       "      <td>2020-08-21 15:24:53.903000+00:00</td>\n",
       "      <td>1000.000000</td>\n",
       "      <td>1100.006403</td>\n",
       "      <td>USD</td>\n",
       "      <td>e2a50729-4593-414a-a4b9-c807fd150a46</td>\n",
       "      <td>NaN</td>\n",
       "      <td>NaN</td>\n",
       "    </tr>\n",
       "    <tr>\n",
       "      <th>2</th>\n",
       "      <td>default</td>\n",
       "      <td>match</td>\n",
       "      <td>2020-08-24 14:41:23.275000+00:00</td>\n",
       "      <td>-17.786148</td>\n",
       "      <td>1082.220255</td>\n",
       "      <td>USD</td>\n",
       "      <td>NaN</td>\n",
       "      <td>62632152</td>\n",
       "      <td>7e0c4b6f-6f82-47fa-8f69-7ffceba19719</td>\n",
       "    </tr>\n",
       "    <tr>\n",
       "      <th>3</th>\n",
       "      <td>default</td>\n",
       "      <td>match</td>\n",
       "      <td>2020-08-24 14:41:23.275000+00:00</td>\n",
       "      <td>0.043971</td>\n",
       "      <td>0.043971</td>\n",
       "      <td>ETH</td>\n",
       "      <td>NaN</td>\n",
       "      <td>62632152</td>\n",
       "      <td>7e0c4b6f-6f82-47fa-8f69-7ffceba19719</td>\n",
       "    </tr>\n",
       "    <tr>\n",
       "      <th>4</th>\n",
       "      <td>default</td>\n",
       "      <td>fee</td>\n",
       "      <td>2020-08-24 14:41:23.275000+00:00</td>\n",
       "      <td>-0.088931</td>\n",
       "      <td>1082.131324</td>\n",
       "      <td>USD</td>\n",
       "      <td>NaN</td>\n",
       "      <td>62632152</td>\n",
       "      <td>7e0c4b6f-6f82-47fa-8f69-7ffceba19719</td>\n",
       "    </tr>\n",
       "    <tr>\n",
       "      <th>5</th>\n",
       "      <td>default</td>\n",
       "      <td>match</td>\n",
       "      <td>2020-08-24 14:41:24.810000+00:00</td>\n",
       "      <td>-117.809816</td>\n",
       "      <td>964.321508</td>\n",
       "      <td>USD</td>\n",
       "      <td>NaN</td>\n",
       "      <td>62632153</td>\n",
       "      <td>7e0c4b6f-6f82-47fa-8f69-7ffceba19719</td>\n",
       "    </tr>\n",
       "    <tr>\n",
       "      <th>6</th>\n",
       "      <td>default</td>\n",
       "      <td>match</td>\n",
       "      <td>2020-08-24 14:41:24.810000+00:00</td>\n",
       "      <td>0.291248</td>\n",
       "      <td>0.335219</td>\n",
       "      <td>ETH</td>\n",
       "      <td>NaN</td>\n",
       "      <td>62632153</td>\n",
       "      <td>7e0c4b6f-6f82-47fa-8f69-7ffceba19719</td>\n",
       "    </tr>\n",
       "    <tr>\n",
       "      <th>7</th>\n",
       "      <td>default</td>\n",
       "      <td>fee</td>\n",
       "      <td>2020-08-24 14:41:24.810000+00:00</td>\n",
       "      <td>-0.589049</td>\n",
       "      <td>963.732459</td>\n",
       "      <td>USD</td>\n",
       "      <td>NaN</td>\n",
       "      <td>62632153</td>\n",
       "      <td>7e0c4b6f-6f82-47fa-8f69-7ffceba19719</td>\n",
       "    </tr>\n",
       "    <tr>\n",
       "      <th>8</th>\n",
       "      <td>default</td>\n",
       "      <td>match</td>\n",
       "      <td>2020-08-24 14:41:27.937000+00:00</td>\n",
       "      <td>-4.655601</td>\n",
       "      <td>959.076858</td>\n",
       "      <td>USD</td>\n",
       "      <td>NaN</td>\n",
       "      <td>62632154</td>\n",
       "      <td>7e0c4b6f-6f82-47fa-8f69-7ffceba19719</td>\n",
       "    </tr>\n",
       "    <tr>\n",
       "      <th>9</th>\n",
       "      <td>default</td>\n",
       "      <td>match</td>\n",
       "      <td>2020-08-24 14:41:27.937000+00:00</td>\n",
       "      <td>0.011510</td>\n",
       "      <td>0.346728</td>\n",
       "      <td>ETH</td>\n",
       "      <td>NaN</td>\n",
       "      <td>62632154</td>\n",
       "      <td>7e0c4b6f-6f82-47fa-8f69-7ffceba19719</td>\n",
       "    </tr>\n",
       "    <tr>\n",
       "      <th>10</th>\n",
       "      <td>default</td>\n",
       "      <td>fee</td>\n",
       "      <td>2020-08-24 14:41:27.937000+00:00</td>\n",
       "      <td>-0.023278</td>\n",
       "      <td>959.053580</td>\n",
       "      <td>USD</td>\n",
       "      <td>NaN</td>\n",
       "      <td>62632154</td>\n",
       "      <td>7e0c4b6f-6f82-47fa-8f69-7ffceba19719</td>\n",
       "    </tr>\n",
       "    <tr>\n",
       "      <th>11</th>\n",
       "      <td>default</td>\n",
       "      <td>match</td>\n",
       "      <td>2020-08-24 14:41:30.173000+00:00</td>\n",
       "      <td>-264.248435</td>\n",
       "      <td>694.805145</td>\n",
       "      <td>USD</td>\n",
       "      <td>NaN</td>\n",
       "      <td>62632155</td>\n",
       "      <td>7e0c4b6f-6f82-47fa-8f69-7ffceba19719</td>\n",
       "    </tr>\n",
       "    <tr>\n",
       "      <th>12</th>\n",
       "      <td>default</td>\n",
       "      <td>match</td>\n",
       "      <td>2020-08-24 14:41:30.173000+00:00</td>\n",
       "      <td>0.653272</td>\n",
       "      <td>1.000000</td>\n",
       "      <td>ETH</td>\n",
       "      <td>NaN</td>\n",
       "      <td>62632155</td>\n",
       "      <td>7e0c4b6f-6f82-47fa-8f69-7ffceba19719</td>\n",
       "    </tr>\n",
       "    <tr>\n",
       "      <th>13</th>\n",
       "      <td>default</td>\n",
       "      <td>fee</td>\n",
       "      <td>2020-08-24 14:41:30.173000+00:00</td>\n",
       "      <td>-1.321242</td>\n",
       "      <td>693.483903</td>\n",
       "      <td>USD</td>\n",
       "      <td>NaN</td>\n",
       "      <td>62632155</td>\n",
       "      <td>7e0c4b6f-6f82-47fa-8f69-7ffceba19719</td>\n",
       "    </tr>\n",
       "    <tr>\n",
       "      <th>14</th>\n",
       "      <td>default</td>\n",
       "      <td>match</td>\n",
       "      <td>2020-08-24 14:42:47.121000+00:00</td>\n",
       "      <td>-587.500000</td>\n",
       "      <td>105.983903</td>\n",
       "      <td>USD</td>\n",
       "      <td>NaN</td>\n",
       "      <td>101171306</td>\n",
       "      <td>4e7cdd1a-6823-482e-9a45-13027acf6a6a</td>\n",
       "    </tr>\n",
       "    <tr>\n",
       "      <th>15</th>\n",
       "      <td>default</td>\n",
       "      <td>match</td>\n",
       "      <td>2020-08-24 14:42:47.121000+00:00</td>\n",
       "      <td>0.050000</td>\n",
       "      <td>0.050000</td>\n",
       "      <td>BTC</td>\n",
       "      <td>NaN</td>\n",
       "      <td>101171306</td>\n",
       "      <td>4e7cdd1a-6823-482e-9a45-13027acf6a6a</td>\n",
       "    </tr>\n",
       "    <tr>\n",
       "      <th>16</th>\n",
       "      <td>default</td>\n",
       "      <td>fee</td>\n",
       "      <td>2020-08-24 14:42:47.121000+00:00</td>\n",
       "      <td>-2.937500</td>\n",
       "      <td>103.046403</td>\n",
       "      <td>USD</td>\n",
       "      <td>NaN</td>\n",
       "      <td>101171306</td>\n",
       "      <td>4e7cdd1a-6823-482e-9a45-13027acf6a6a</td>\n",
       "    </tr>\n",
       "    <tr>\n",
       "      <th>17</th>\n",
       "      <td>default</td>\n",
       "      <td>deposit</td>\n",
       "      <td>2020-09-02 19:19:31.999000+00:00</td>\n",
       "      <td>38.000000</td>\n",
       "      <td>39.000000</td>\n",
       "      <td>ETH</td>\n",
       "      <td>66a8032b-591d-41ee-9dda-aa30a1c19023</td>\n",
       "      <td>NaN</td>\n",
       "      <td>NaN</td>\n",
       "    </tr>\n",
       "    <tr>\n",
       "      <th>18</th>\n",
       "      <td>default</td>\n",
       "      <td>withdrawal</td>\n",
       "      <td>2020-09-02 19:27:25.251000+00:00</td>\n",
       "      <td>-38.000000</td>\n",
       "      <td>1.000000</td>\n",
       "      <td>ETH</td>\n",
       "      <td>830a9b3f-eaff-4706-a18e-b50231bc23cf</td>\n",
       "      <td>NaN</td>\n",
       "      <td>NaN</td>\n",
       "    </tr>\n",
       "    <tr>\n",
       "      <th>19</th>\n",
       "      <td>default</td>\n",
       "      <td>deposit</td>\n",
       "      <td>2020-09-23 03:39:50.368000+00:00</td>\n",
       "      <td>2000.000000</td>\n",
       "      <td>2103.046403</td>\n",
       "      <td>USD</td>\n",
       "      <td>3aac15e9-aff6-4c1f-a675-7a552b3e4fbb</td>\n",
       "      <td>NaN</td>\n",
       "      <td>NaN</td>\n",
       "    </tr>\n",
       "    <tr>\n",
       "      <th>20</th>\n",
       "      <td>default</td>\n",
       "      <td>match</td>\n",
       "      <td>2020-10-07 01:31:47.163000+00:00</td>\n",
       "      <td>-118.611784</td>\n",
       "      <td>1984.434619</td>\n",
       "      <td>USD</td>\n",
       "      <td>NaN</td>\n",
       "      <td>105097810</td>\n",
       "      <td>c9d41403-1e9a-458a-b23d-3f436e457273</td>\n",
       "    </tr>\n",
       "    <tr>\n",
       "      <th>21</th>\n",
       "      <td>default</td>\n",
       "      <td>match</td>\n",
       "      <td>2020-10-07 01:31:47.163000+00:00</td>\n",
       "      <td>0.011222</td>\n",
       "      <td>0.061222</td>\n",
       "      <td>BTC</td>\n",
       "      <td>NaN</td>\n",
       "      <td>105097810</td>\n",
       "      <td>c9d41403-1e9a-458a-b23d-3f436e457273</td>\n",
       "    </tr>\n",
       "    <tr>\n",
       "      <th>22</th>\n",
       "      <td>default</td>\n",
       "      <td>fee</td>\n",
       "      <td>2020-10-07 01:31:47.163000+00:00</td>\n",
       "      <td>-0.593059</td>\n",
       "      <td>1983.841560</td>\n",
       "      <td>USD</td>\n",
       "      <td>NaN</td>\n",
       "      <td>105097810</td>\n",
       "      <td>c9d41403-1e9a-458a-b23d-3f436e457273</td>\n",
       "    </tr>\n",
       "    <tr>\n",
       "      <th>23</th>\n",
       "      <td>default</td>\n",
       "      <td>match</td>\n",
       "      <td>2020-10-07 01:31:48.980000+00:00</td>\n",
       "      <td>-938.388216</td>\n",
       "      <td>1045.453344</td>\n",
       "      <td>USD</td>\n",
       "      <td>NaN</td>\n",
       "      <td>105097813</td>\n",
       "      <td>c9d41403-1e9a-458a-b23d-3f436e457273</td>\n",
       "    </tr>\n",
       "    <tr>\n",
       "      <th>24</th>\n",
       "      <td>default</td>\n",
       "      <td>match</td>\n",
       "      <td>2020-10-07 01:31:48.980000+00:00</td>\n",
       "      <td>0.088778</td>\n",
       "      <td>0.150000</td>\n",
       "      <td>BTC</td>\n",
       "      <td>NaN</td>\n",
       "      <td>105097813</td>\n",
       "      <td>c9d41403-1e9a-458a-b23d-3f436e457273</td>\n",
       "    </tr>\n",
       "    <tr>\n",
       "      <th>25</th>\n",
       "      <td>default</td>\n",
       "      <td>fee</td>\n",
       "      <td>2020-10-07 01:31:48.980000+00:00</td>\n",
       "      <td>-4.691941</td>\n",
       "      <td>1040.761403</td>\n",
       "      <td>USD</td>\n",
       "      <td>NaN</td>\n",
       "      <td>105097813</td>\n",
       "      <td>c9d41403-1e9a-458a-b23d-3f436e457273</td>\n",
       "    </tr>\n",
       "    <tr>\n",
       "      <th>26</th>\n",
       "      <td>default</td>\n",
       "      <td>match</td>\n",
       "      <td>2020-10-07 01:31:50.110000+00:00</td>\n",
       "      <td>-1008.000000</td>\n",
       "      <td>32.761403</td>\n",
       "      <td>USD</td>\n",
       "      <td>NaN</td>\n",
       "      <td>65015958</td>\n",
       "      <td>698c99d4-95e8-4250-b069-8c59d2440eda</td>\n",
       "    </tr>\n",
       "    <tr>\n",
       "      <th>27</th>\n",
       "      <td>default</td>\n",
       "      <td>match</td>\n",
       "      <td>2020-10-07 01:31:50.110000+00:00</td>\n",
       "      <td>3.000000</td>\n",
       "      <td>4.000000</td>\n",
       "      <td>ETH</td>\n",
       "      <td>NaN</td>\n",
       "      <td>65015958</td>\n",
       "      <td>698c99d4-95e8-4250-b069-8c59d2440eda</td>\n",
       "    </tr>\n",
       "    <tr>\n",
       "      <th>28</th>\n",
       "      <td>default</td>\n",
       "      <td>fee</td>\n",
       "      <td>2020-10-07 01:31:50.110000+00:00</td>\n",
       "      <td>-5.040000</td>\n",
       "      <td>27.721403</td>\n",
       "      <td>USD</td>\n",
       "      <td>NaN</td>\n",
       "      <td>65015958</td>\n",
       "      <td>698c99d4-95e8-4250-b069-8c59d2440eda</td>\n",
       "    </tr>\n",
       "  </tbody>\n",
       "</table>\n",
       "</div>"
      ],
      "text/plain": [
       "   portfolio        type                             time       amount  \\\n",
       "0    default     deposit 2020-08-21 03:15:15.538000+00:00   100.000000   \n",
       "1    default     deposit 2020-08-21 15:24:53.903000+00:00  1000.000000   \n",
       "2    default       match 2020-08-24 14:41:23.275000+00:00   -17.786148   \n",
       "3    default       match 2020-08-24 14:41:23.275000+00:00     0.043971   \n",
       "4    default         fee 2020-08-24 14:41:23.275000+00:00    -0.088931   \n",
       "5    default       match 2020-08-24 14:41:24.810000+00:00  -117.809816   \n",
       "6    default       match 2020-08-24 14:41:24.810000+00:00     0.291248   \n",
       "7    default         fee 2020-08-24 14:41:24.810000+00:00    -0.589049   \n",
       "8    default       match 2020-08-24 14:41:27.937000+00:00    -4.655601   \n",
       "9    default       match 2020-08-24 14:41:27.937000+00:00     0.011510   \n",
       "10   default         fee 2020-08-24 14:41:27.937000+00:00    -0.023278   \n",
       "11   default       match 2020-08-24 14:41:30.173000+00:00  -264.248435   \n",
       "12   default       match 2020-08-24 14:41:30.173000+00:00     0.653272   \n",
       "13   default         fee 2020-08-24 14:41:30.173000+00:00    -1.321242   \n",
       "14   default       match 2020-08-24 14:42:47.121000+00:00  -587.500000   \n",
       "15   default       match 2020-08-24 14:42:47.121000+00:00     0.050000   \n",
       "16   default         fee 2020-08-24 14:42:47.121000+00:00    -2.937500   \n",
       "17   default     deposit 2020-09-02 19:19:31.999000+00:00    38.000000   \n",
       "18   default  withdrawal 2020-09-02 19:27:25.251000+00:00   -38.000000   \n",
       "19   default     deposit 2020-09-23 03:39:50.368000+00:00  2000.000000   \n",
       "20   default       match 2020-10-07 01:31:47.163000+00:00  -118.611784   \n",
       "21   default       match 2020-10-07 01:31:47.163000+00:00     0.011222   \n",
       "22   default         fee 2020-10-07 01:31:47.163000+00:00    -0.593059   \n",
       "23   default       match 2020-10-07 01:31:48.980000+00:00  -938.388216   \n",
       "24   default       match 2020-10-07 01:31:48.980000+00:00     0.088778   \n",
       "25   default         fee 2020-10-07 01:31:48.980000+00:00    -4.691941   \n",
       "26   default       match 2020-10-07 01:31:50.110000+00:00 -1008.000000   \n",
       "27   default       match 2020-10-07 01:31:50.110000+00:00     3.000000   \n",
       "28   default         fee 2020-10-07 01:31:50.110000+00:00    -5.040000   \n",
       "\n",
       "        balance amount/balance unit                           transfer id  \\\n",
       "0    100.006403                 USD  cae094cd-f0c6-4ee2-b5b2-e1b6de564b11   \n",
       "1   1100.006403                 USD  e2a50729-4593-414a-a4b9-c807fd150a46   \n",
       "2   1082.220255                 USD                                   NaN   \n",
       "3      0.043971                 ETH                                   NaN   \n",
       "4   1082.131324                 USD                                   NaN   \n",
       "5    964.321508                 USD                                   NaN   \n",
       "6      0.335219                 ETH                                   NaN   \n",
       "7    963.732459                 USD                                   NaN   \n",
       "8    959.076858                 USD                                   NaN   \n",
       "9      0.346728                 ETH                                   NaN   \n",
       "10   959.053580                 USD                                   NaN   \n",
       "11   694.805145                 USD                                   NaN   \n",
       "12     1.000000                 ETH                                   NaN   \n",
       "13   693.483903                 USD                                   NaN   \n",
       "14   105.983903                 USD                                   NaN   \n",
       "15     0.050000                 BTC                                   NaN   \n",
       "16   103.046403                 USD                                   NaN   \n",
       "17    39.000000                 ETH  66a8032b-591d-41ee-9dda-aa30a1c19023   \n",
       "18     1.000000                 ETH  830a9b3f-eaff-4706-a18e-b50231bc23cf   \n",
       "19  2103.046403                 USD  3aac15e9-aff6-4c1f-a675-7a552b3e4fbb   \n",
       "20  1984.434619                 USD                                   NaN   \n",
       "21     0.061222                 BTC                                   NaN   \n",
       "22  1983.841560                 USD                                   NaN   \n",
       "23  1045.453344                 USD                                   NaN   \n",
       "24     0.150000                 BTC                                   NaN   \n",
       "25  1040.761403                 USD                                   NaN   \n",
       "26    32.761403                 USD                                   NaN   \n",
       "27     4.000000                 ETH                                   NaN   \n",
       "28    27.721403                 USD                                   NaN   \n",
       "\n",
       "     trade id                              order id  \n",
       "0         NaN                                   NaN  \n",
       "1         NaN                                   NaN  \n",
       "2    62632152  7e0c4b6f-6f82-47fa-8f69-7ffceba19719  \n",
       "3    62632152  7e0c4b6f-6f82-47fa-8f69-7ffceba19719  \n",
       "4    62632152  7e0c4b6f-6f82-47fa-8f69-7ffceba19719  \n",
       "5    62632153  7e0c4b6f-6f82-47fa-8f69-7ffceba19719  \n",
       "6    62632153  7e0c4b6f-6f82-47fa-8f69-7ffceba19719  \n",
       "7    62632153  7e0c4b6f-6f82-47fa-8f69-7ffceba19719  \n",
       "8    62632154  7e0c4b6f-6f82-47fa-8f69-7ffceba19719  \n",
       "9    62632154  7e0c4b6f-6f82-47fa-8f69-7ffceba19719  \n",
       "10   62632154  7e0c4b6f-6f82-47fa-8f69-7ffceba19719  \n",
       "11   62632155  7e0c4b6f-6f82-47fa-8f69-7ffceba19719  \n",
       "12   62632155  7e0c4b6f-6f82-47fa-8f69-7ffceba19719  \n",
       "13   62632155  7e0c4b6f-6f82-47fa-8f69-7ffceba19719  \n",
       "14  101171306  4e7cdd1a-6823-482e-9a45-13027acf6a6a  \n",
       "15  101171306  4e7cdd1a-6823-482e-9a45-13027acf6a6a  \n",
       "16  101171306  4e7cdd1a-6823-482e-9a45-13027acf6a6a  \n",
       "17        NaN                                   NaN  \n",
       "18        NaN                                   NaN  \n",
       "19        NaN                                   NaN  \n",
       "20  105097810  c9d41403-1e9a-458a-b23d-3f436e457273  \n",
       "21  105097810  c9d41403-1e9a-458a-b23d-3f436e457273  \n",
       "22  105097810  c9d41403-1e9a-458a-b23d-3f436e457273  \n",
       "23  105097813  c9d41403-1e9a-458a-b23d-3f436e457273  \n",
       "24  105097813  c9d41403-1e9a-458a-b23d-3f436e457273  \n",
       "25  105097813  c9d41403-1e9a-458a-b23d-3f436e457273  \n",
       "26   65015958  698c99d4-95e8-4250-b069-8c59d2440eda  \n",
       "27   65015958  698c99d4-95e8-4250-b069-8c59d2440eda  \n",
       "28   65015958  698c99d4-95e8-4250-b069-8c59d2440eda  "
      ]
     },
     "execution_count": 24,
     "metadata": {},
     "output_type": "execute_result"
    }
   ],
   "source": []
  },
  {
   "cell_type": "code",
   "execution_count": null,
   "id": "81f53cfa-8317-42c3-86ea-3101aa979f25",
   "metadata": {},
   "outputs": [],
   "source": []
  },
  {
   "cell_type": "code",
   "execution_count": 169,
   "id": "abe20074-612d-4410-882a-ffa4ffac5185",
   "metadata": {},
   "outputs": [
    {
     "data": {
      "text/plain": [
       "{'order_id': '244e6454-dfab-4471-a5bb-a16ac416cdca',\n",
       " 'timestamp': 1449116799.73,\n",
       " 'unit_given': 'BTC',\n",
       " 'unit_received': 'USD',\n",
       " 'amount_given': -3.0,\n",
       " 'amount_received': 1102.5,\n",
       " 'unit_price': -0.0027210884353741495,\n",
       " 'fees': 0.0}"
      ]
     },
     "execution_count": 169,
     "metadata": {},
     "output_type": "execute_result"
    }
   ],
   "source": [
    "o = orders[2]\n",
    "infos[0].to_json_dict()"
   ]
  },
  {
   "cell_type": "code",
   "execution_count": 121,
   "id": "f2cb63e5-d521-4f09-881b-e43be0a80b6c",
   "metadata": {},
   "outputs": [],
   "source": [
    "#matches = o[o['type']=='match']\n",
    "#matches"
   ]
  },
  {
   "cell_type": "code",
   "execution_count": 131,
   "id": "27127aea-054a-46b8-b3a0-e424bbc1adb8",
   "metadata": {},
   "outputs": [
    {
     "data": {
      "text/plain": [
       "array(['BTC', 'USD'], dtype=object)"
      ]
     },
     "execution_count": 131,
     "metadata": {},
     "output_type": "execute_result"
    }
   ],
   "source": [
    "units = np.unique(o['amount/balance unit'].values)\n",
    "units"
   ]
  },
  {
   "cell_type": "code",
   "execution_count": 398,
   "id": "f4a2b0ce-1061-45d0-b270-64c4338ffa6d",
   "metadata": {},
   "outputs": [
    {
     "data": {
      "text/plain": [
       "'244e6454-dfab-4471-a5bb-a16ac416cdca'"
      ]
     },
     "execution_count": 398,
     "metadata": {},
     "output_type": "execute_result"
    }
   ],
   "source": [
    "o['order id'].values[0] # order id"
   ]
  },
  {
   "cell_type": "code",
   "execution_count": 136,
   "id": "400f118c-ea9e-4ed0-a4f0-c46e85599702",
   "metadata": {},
   "outputs": [
    {
     "data": {
      "text/plain": [
       "(-5.0, 1969.6914845000001)"
      ]
     },
     "execution_count": 136,
     "metadata": {},
     "output_type": "execute_result"
    }
   ],
   "source": [
    "mask0 = o['amount/balance unit'] == units[0]\n",
    "mask1 = o['amount/balance unit'] == units[1]\n",
    "o[mask0]['amount'].values.sum(),  o[mask1]['amount'].values.sum(),"
   ]
  },
  {
   "cell_type": "code",
   "execution_count": 400,
   "id": "be084070-52c7-4dce-a412-063697eb4e27",
   "metadata": {},
   "outputs": [
    {
     "data": {
      "text/plain": [
       "'USD'"
      ]
     },
     "execution_count": 400,
     "metadata": {},
     "output_type": "execute_result"
    }
   ],
   "source": [
    "o['amount/balance unit'].values[1] # currency used"
   ]
  },
  {
   "cell_type": "code",
   "execution_count": 401,
   "id": "a97d6076-f86e-446a-9240-ccbab716a9b2",
   "metadata": {},
   "outputs": [
    {
     "data": {
      "text/plain": [
       "Timestamp('2015-12-03 04:26:39.730000+0000', tz='UTC')"
      ]
     },
     "execution_count": 401,
     "metadata": {},
     "output_type": "execute_result"
    }
   ],
   "source": [
    "max(o['time']) # timestamp"
   ]
  },
  {
   "cell_type": "code",
   "execution_count": 402,
   "id": "027f6459-0e8a-4349-a89e-03df29fdb112",
   "metadata": {},
   "outputs": [],
   "source": [
    "btc_mask = o['amount/balance unit']=='BTC'"
   ]
  },
  {
   "cell_type": "code",
   "execution_count": 403,
   "id": "311d5640-0876-42a4-9fb5-5d37ea64ae11",
   "metadata": {},
   "outputs": [
    {
     "data": {
      "text/plain": [
       "-3.0"
      ]
     },
     "execution_count": 403,
     "metadata": {},
     "output_type": "execute_result"
    }
   ],
   "source": [
    "o[btc_mask]['amount'].sum() # amount of BTC"
   ]
  },
  {
   "cell_type": "code",
   "execution_count": 404,
   "id": "e3b5c580-03bd-4db5-b9d8-608b0a3afb94",
   "metadata": {},
   "outputs": [
    {
     "data": {
      "text/plain": [
       "1102.5"
      ]
     },
     "execution_count": 404,
     "metadata": {},
     "output_type": "execute_result"
    }
   ],
   "source": [
    "o[~btc_mask]['amount'].sum() # amount of $"
   ]
  },
  {
   "cell_type": "code",
   "execution_count": 405,
   "id": "1bb16b35-c471-4b54-8845-62245f8fa841",
   "metadata": {},
   "outputs": [
    {
     "data": {
      "text/plain": [
       "[1102.5,\n",
       " 4400.0,\n",
       " 1969.6914845000001,\n",
       " 4300.0,\n",
       " 3700.0,\n",
       " 4257.5,\n",
       " 4750.0,\n",
       " 1950.0,\n",
       " 9093.25]"
      ]
     },
     "execution_count": 405,
     "metadata": {},
     "output_type": "execute_result"
    }
   ],
   "source": [
    "[ o[o['amount/balance unit']!='BTC']['amount'].sum() for o in orders]"
   ]
  },
  {
   "cell_type": "code",
   "execution_count": 382,
   "id": "ffd377a1-7f7e-4541-a1eb-0e1edcc2467b",
   "metadata": {},
   "outputs": [],
   "source": [
    "mask1 = main_df['type']=='match'"
   ]
  },
  {
   "cell_type": "code",
   "execution_count": 383,
   "id": "b83a85b8-67b0-4180-8836-8ae2ccfafd2a",
   "metadata": {},
   "outputs": [],
   "source": [
    "mask2 = main_df['type']=='fee'"
   ]
  },
  {
   "cell_type": "code",
   "execution_count": null,
   "id": "6e44558f-f972-4b57-a92c-25632ba05521",
   "metadata": {},
   "outputs": [],
   "source": []
  },
  {
   "cell_type": "code",
   "execution_count": 384,
   "id": "98247452-4725-4930-8311-9732de8bc0f4",
   "metadata": {},
   "outputs": [
    {
     "data": {
      "text/plain": [
       "type\n",
       "True     100\n",
       "False     35\n",
       "Name: count, dtype: int64"
      ]
     },
     "execution_count": 384,
     "metadata": {},
     "output_type": "execute_result"
    }
   ],
   "source": [
    "mask1.value_counts()"
   ]
  },
  {
   "cell_type": "code",
   "execution_count": 385,
   "id": "cd082df6-1ce2-4f0b-b689-9fc52fbf3d5e",
   "metadata": {},
   "outputs": [
    {
     "data": {
      "text/plain": [
       "type\n",
       "False    117\n",
       "True      18\n",
       "Name: count, dtype: int64"
      ]
     },
     "execution_count": 385,
     "metadata": {},
     "output_type": "execute_result"
    }
   ],
   "source": [
    "mask2.value_counts()"
   ]
  },
  {
   "cell_type": "code",
   "execution_count": 390,
   "id": "4fc35f2c-b03c-4b0c-865f-79558d718070",
   "metadata": {},
   "outputs": [
    {
     "data": {
      "text/plain": [
       "(array([False,  True,  True, False, False,  True,  True, False, False,\n",
       "         True,  True,  True,  True, False,  True,  True, False, False,\n",
       "        False,  True,  True,  True,  True,  True,  True,  True,  True,\n",
       "         True,  True,  True,  True,  True,  True,  True,  True,  True,\n",
       "         True,  True,  True,  True,  True,  True,  True,  True,  True,\n",
       "         True,  True,  True,  True,  True,  True,  True,  True,  True,\n",
       "         True,  True,  True,  True,  True,  True,  True,  True,  True,\n",
       "         True,  True,  True,  True,  True,  True,  True,  True,  True,\n",
       "         True,  True,  True,  True,  True,  True,  True, False, False,\n",
       "         True,  True,  True,  True,  True,  True,  True,  True,  True,\n",
       "         True,  True,  True,  True,  True,  True,  True,  True,  True,\n",
       "         True,  True,  True,  True,  True,  True,  True,  True,  True,\n",
       "         True,  True,  True,  True,  True,  True,  True, False, False,\n",
       "         True,  True, False, False,  True,  True,  True,  True,  True,\n",
       "         True, False,  True,  True,  True,  True,  True,  True, False]),\n",
       " type\n",
       " True     118\n",
       " False     17\n",
       " Name: count, dtype: int64)"
      ]
     },
     "execution_count": 390,
     "metadata": {},
     "output_type": "execute_result"
    }
   ],
   "source": [
    "foo = mask1 | mask2\n",
    "foo.values, foo.value_counts()"
   ]
  },
  {
   "cell_type": "code",
   "execution_count": 387,
   "id": "2d0ff8a6-16e7-4388-a592-c9118612d01f",
   "metadata": {},
   "outputs": [
    {
     "data": {
      "text/plain": [
       "array([False,  True,  True, False, False,  True,  True, False, False,\n",
       "        True,  True,  True,  True, False,  True,  True, False, False,\n",
       "       False,  True,  True, False,  True,  True, False,  True,  True,\n",
       "       False,  True,  True, False,  True,  True, False,  True,  True,\n",
       "       False,  True,  True, False,  True,  True, False,  True,  True,\n",
       "       False,  True,  True, False,  True,  True, False,  True,  True,\n",
       "       False,  True,  True, False,  True,  True, False,  True,  True,\n",
       "       False,  True,  True, False,  True,  True, False,  True,  True,\n",
       "       False,  True,  True,  True,  True,  True,  True, False, False,\n",
       "        True,  True,  True,  True,  True,  True,  True,  True,  True,\n",
       "        True,  True,  True,  True,  True,  True,  True,  True,  True,\n",
       "        True,  True,  True,  True,  True,  True,  True,  True,  True,\n",
       "        True,  True,  True,  True,  True,  True,  True, False, False,\n",
       "        True,  True, False, False,  True,  True,  True,  True,  True,\n",
       "        True, False,  True,  True,  True,  True,  True,  True, False])"
      ]
     },
     "execution_count": 387,
     "metadata": {},
     "output_type": "execute_result"
    }
   ],
   "source": [
    "mask1.values"
   ]
  },
  {
   "cell_type": "code",
   "execution_count": 379,
   "id": "fee070ac-4ea4-42b4-a8ac-eaf14f1763b8",
   "metadata": {},
   "outputs": [
    {
     "data": {
      "text/plain": [
       "array([False, False, False, False, False, False, False, False, False,\n",
       "       False, False, False, False, False, False, False, False, False,\n",
       "       False, False, False,  True, False, False,  True, False, False,\n",
       "        True, False, False,  True, False, False,  True, False, False,\n",
       "        True, False, False,  True, False, False,  True, False, False,\n",
       "        True, False, False,  True, False, False,  True, False, False,\n",
       "        True, False, False,  True, False, False,  True, False, False,\n",
       "        True, False, False,  True, False, False,  True, False, False,\n",
       "        True, False, False, False, False, False, False, False, False,\n",
       "       False, False, False, False, False, False, False, False, False,\n",
       "       False, False, False, False, False, False, False, False, False,\n",
       "       False, False, False, False, False, False, False, False, False,\n",
       "       False, False, False, False, False, False, False, False, False,\n",
       "       False, False, False, False, False, False, False, False, False,\n",
       "       False, False, False, False, False, False, False, False, False])"
      ]
     },
     "execution_count": 379,
     "metadata": {},
     "output_type": "execute_result"
    }
   ],
   "source": [
    "mask2.values"
   ]
  },
  {
   "cell_type": "code",
   "execution_count": 391,
   "id": "6017d587-d4ed-4999-a87d-362c0958de66",
   "metadata": {},
   "outputs": [
    {
     "data": {
      "text/plain": [
       "array([False,  True,  True, False, False,  True,  True, False, False,\n",
       "        True,  True,  True,  True, False,  True,  True, False, False,\n",
       "       False,  True,  True,  True,  True,  True,  True,  True,  True,\n",
       "        True,  True,  True,  True,  True,  True,  True,  True,  True,\n",
       "        True,  True,  True,  True,  True,  True,  True,  True,  True,\n",
       "        True,  True,  True,  True,  True,  True,  True,  True,  True,\n",
       "        True,  True,  True,  True,  True,  True,  True,  True,  True,\n",
       "        True,  True,  True,  True,  True,  True,  True,  True,  True,\n",
       "        True,  True,  True,  True,  True,  True,  True, False, False,\n",
       "        True,  True,  True,  True,  True,  True,  True,  True,  True,\n",
       "        True,  True,  True,  True,  True,  True,  True,  True,  True,\n",
       "        True,  True,  True,  True,  True,  True,  True,  True,  True,\n",
       "        True,  True,  True,  True,  True,  True,  True, False, False,\n",
       "        True,  True, False, False,  True,  True,  True,  True,  True,\n",
       "        True, False,  True,  True,  True,  True,  True,  True, False])"
      ]
     },
     "execution_count": 391,
     "metadata": {},
     "output_type": "execute_result"
    }
   ],
   "source": [
    "foo.values"
   ]
  },
  {
   "cell_type": "code",
   "execution_count": null,
   "id": "a5220de6-6c8c-4a1c-9ada-9732b650555c",
   "metadata": {},
   "outputs": [],
   "source": []
  }
 ],
 "metadata": {
  "kernelspec": {
   "display_name": "Python 3 (ipykernel)",
   "language": "python",
   "name": "python3"
  },
  "language_info": {
   "codemirror_mode": {
    "name": "ipython",
    "version": 3
   },
   "file_extension": ".py",
   "mimetype": "text/x-python",
   "name": "python",
   "nbconvert_exporter": "python",
   "pygments_lexer": "ipython3",
   "version": "3.11.8"
  }
 },
 "nbformat": 4,
 "nbformat_minor": 5
}
