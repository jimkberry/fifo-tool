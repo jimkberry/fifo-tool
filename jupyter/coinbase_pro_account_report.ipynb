{
 "cells": [
  {
   "cell_type": "markdown",
   "id": "338bf8c6-f616-4d27-b47e-779025ddfed9",
   "metadata": {},
   "source": [
    "## Coinbase Pro (GDAX) Account Report.\n",
    "Contains information about all orders (buys,sells,trades) made using, and transfers into an out of, the Coinbase Pro (formerly GDAX) platform.\n",
    "### How to get:\n",
    "- login to Coinbase.com\n",
    "- Go to: https://accounts.coinbase.com/profile \n",
    "- Select \"statements\"\n",
    "- Click on the \"Coinbase Pro\" tab\n",
    "- \"Generate custom report\" with:\n",
    "    - \"account\"\n",
    "    - \"all portfolios\"\n",
    "    - \"all accounts\"\n",
    "    - Select the desired year\n"
   ]
  },
  {
   "cell_type": "markdown",
   "id": "1c150a74-da50-475e-be95-70a487bcb063",
   "metadata": {},
   "source": [
    "\n",
    "An \"order\" is any trade, purchase, or sale that has occurred. A single order (\"sell 3 BTC for USD\") may have been performed by executing multiple smaller \"trades\" - but it's the order we are interested.\n",
    "\n",
    "This code will parse the report and assemble a list of `OrderInfo` instances describing the orders.\n",
    "\n",
    "All of the records for a given order have the same \"order id\" field entry.\n",
    "\n",
    "There will be at least 1, and may be many, \"trades\" in an order. All records for a given trade will have the same \"trade id\" value.\n",
    "\n",
    "Every trade cosists of 2 \"match\" records, one with a positive \"amount\" which represents the item received, and another with a negative \"amount\", representing the item or currency paid of given in exchange.\n",
    "\n",
    "A trade may or may not have a \"fee\" record - describing any fee paid.\n",
    "\n",
    "For each order we want:\n",
    "\n",
    "- market:        'BTC-USD', for instance\n",
    "- timestamp:     the timestamp of the latest executed trade (arbitrary choice, in reality)\n",
    "- order_id:      the coinbase order ID\n",
    "- unit_given:     what was sold/given? ('BTC', 'ETH'...)\n",
    "- amount_given:   the amount of the currency being sold\n",
    "- unit_received: payment unit ( 'USD', USDC, ETH... )\n",
    "- amount_received: the amount received in the trades (no fees)\n",
    "- unit_price:    In practice this is calculated as (amount_received / amount_given) \n",
    "- fees_paid:     the total fees for the order\n"
   ]
  },
  {
   "cell_type": "code",
   "execution_count": 1,
   "id": "01cfc587-55b5-44c1-a8c2-ec9e477106d8",
   "metadata": {},
   "outputs": [],
   "source": [
    "# allow import of local fifo-tool stuff\n",
    "import os\n",
    "import sys\n",
    "sys.path.insert(0, os.path.abspath('../src'))"
   ]
  },
  {
   "cell_type": "code",
   "execution_count": 2,
   "id": "73144925-dabc-4199-96e3-efcb4206edc9",
   "metadata": {},
   "outputs": [],
   "source": [
    "from typing import Dict\n",
    "from datetime import datetime\n",
    "import json\n",
    "import numpy as np\n",
    "import pandas as pd\n",
    "\n",
    "from models.acquisition import Acquisition\n",
    "from models.disposition import Disposition"
   ]
  },
  {
   "cell_type": "code",
   "execution_count": null,
   "id": "8b70aba8-1242-45a3-895f-6562663c6bea",
   "metadata": {},
   "outputs": [],
   "source": [
    "\n"
   ]
  },
  {
   "cell_type": "code",
   "execution_count": 3,
   "id": "96651bb8-7eba-4a48-b5fe-cd6646343113",
   "metadata": {},
   "outputs": [],
   "source": [
    "def read_report_csv(file_path):\n",
    "    \"\"\"Read a coinbase pro 'accounts' report and return a pandas dataframe.\n",
    "        conversions done:\n",
    "            'time' - parsed into a datestamp\n",
    "            'trade id' - read as a string\n",
    "    \"\"\"\n",
    "    date_flds = ['time']\n",
    "    forced_dtypes = {'trade id': str}\n",
    "    return pd.read_csv(file_path, skiprows=0, parse_dates=date_flds, dtype=forced_dtypes)\n"
   ]
  },
  {
   "cell_type": "code",
   "execution_count": 4,
   "id": "f8fc489b-cc05-4851-ac97-12181a0e1a0e",
   "metadata": {},
   "outputs": [],
   "source": [
    "#help(pd.read_csv)"
   ]
  },
  {
   "cell_type": "code",
   "execution_count": 5,
   "id": "b89912f1-3ea8-4eb8-93f4-4598ae2f5b21",
   "metadata": {},
   "outputs": [],
   "source": [
    "def get_orders(accounts_rpt):\n",
    "    \"\"\"Given a report dataframe, select the appropriate records and group them\n",
    "        into per-order dataframes. Return a list of them\n",
    "    \"\"\"\n",
    "    mask = (accounts_rpt['type']=='match') | (accounts_rpt['type']=='fee')\n",
    "    matches = accounts_rpt[mask] # get the matches and fees\n",
    "    orders_df = matches.groupby('order id') # group into orders\n",
    "    orders = [orders_df.get_group(id) for id in  orders_df.groups.keys()]\n",
    "    return orders\n"
   ]
  },
  {
   "cell_type": "code",
   "execution_count": 6,
   "id": "85ac96b9-2722-4029-bafb-e6b06ca7b302",
   "metadata": {},
   "outputs": [],
   "source": [
    "\n",
    "class CbProOrderInfo:\n",
    "\n",
    "    def __init__(self, order_id: str, timestamp: float, unit_given: str,\n",
    "                unit_received: str, amount_given: float, amount_received: float,\n",
    "                unit_price: float,  fees: float) -> \"OrderInfo\":\n",
    "        self.order_id: str = order_id\n",
    "        self.timestamp: float = timestamp\n",
    "        self.unit_given: str = unit_given\n",
    "        self.unit_received: str = unit_received\n",
    "        self.amount_given = amount_given\n",
    "        self.amount_received = amount_received\n",
    "        self.unit_price = unit_price\n",
    "        self.fees = fees\n",
    "\n",
    "    def to_json_dict(self) -> Dict:\n",
    "        return  {\n",
    "            \"order_id\": self.order_id,\n",
    "            \"timestamp\": self.timestamp,\n",
    "            \"unit_given\": self.unit_given,\n",
    "            \"unit_received\": self.unit_received,\n",
    "            \"amount_given\": self.amount_given,\n",
    "            \"amount_received\": self.amount_received,\n",
    "            \"unit_price\": self.unit_price,\n",
    "            \"fees\": self.fees\n",
    "        }\n",
    "\n",
    "    def to_disposition(self) -> 'Disposition':\n",
    "        return Disposition(\n",
    "            self.timestamp,\n",
    "            self.unit_given, # asset_type sold\n",
    "            self.amount_given, # asset_amount\n",
    "            self.unit_price, # asset_price,\n",
    "            self.fees, # fees\n",
    "            f'CB Pro Order Id: {self.order_id}', # reference\n",
    "            \"\" #comment\n",
    "        )\n",
    "\n",
    "\n",
    "def parse_order(order, asset):\n",
    "    \"\"\" Parse the trades in an order dataframe.\n",
    "\n",
    "        returns a CbProOrderInfo instance if the order involves the given asset\n",
    "\n",
    "    \"\"\"\n",
    "    ID_LBL = 'order id'\n",
    "    UNIT_LBL = 'amount/balance unit'\n",
    "    order_id = order[ID_LBL].values[0]  # is in every record\n",
    "    timestamp = max(order['time']).timestamp()\n",
    "    # matches are about the item, fees are about fees\n",
    "    matches = order[order['type'] == 'match']\n",
    "    fees =  order[order['type'] == 'fee']\n",
    "\n",
    "    # The item being received (bought, usually) has a positive amount, \n",
    "    # the one given has a negative one\n",
    "    units = np.unique(order[UNIT_LBL].values) \n",
    "    # units 2-element array containing the 2 units\n",
    "    mask0 = order[UNIT_LBL] == units[0]\n",
    "    mask1 = order[UNIT_LBL] == units[1]\n",
    "    amounts = (order[mask0]['amount'].values.sum(), order[mask1]['amount'].values.sum())\n",
    "    # we are going to assume that 1 of the amounts is negative, the oher positive\n",
    "    (given_idx, rcvd_idx) = (0,1) if amounts[1]>0 else (1,0)\n",
    "    unit_given = units[given_idx]\n",
    "    amount_given = amounts[given_idx]\n",
    "    unit_received = units[rcvd_idx]\n",
    "    amount_received = amounts[rcvd_idx]\n",
    "    unit_price = amount_given/amount_received\n",
    "    fees = abs(fees['amount'].sum()) # fees are reported as < 0\n",
    "    if unit_given == asset or unit_received == asset:\n",
    "        return CbProOrderInfo(order_id, timestamp, unit_given, unit_received,\n",
    "                              amount_given, amount_received, unit_price, fees)\n",
    "    else:\n",
    "        return None\n",
    "\n"
   ]
  },
  {
   "cell_type": "code",
   "execution_count": 67,
   "id": "55ba0b26-ecec-4bb2-9ece-9cb71d9ff06b",
   "metadata": {},
   "outputs": [],
   "source": [
    "year = '2023'\n",
    "assets = ['ETH','BTC']"
   ]
  },
  {
   "cell_type": "code",
   "execution_count": 68,
   "id": "fcb94346-6f6a-4570-b439-dbe9449e0b20",
   "metadata": {},
   "outputs": [],
   "source": [
    "filebase = f'local_data/cbpro-account-{year}'"
   ]
  },
  {
   "cell_type": "code",
   "execution_count": 69,
   "id": "4d286e82-1f00-464f-9baf-77d164afa06f",
   "metadata": {},
   "outputs": [],
   "source": [
    "main_df = read_report_csv(filebase+'.csv')"
   ]
  },
  {
   "cell_type": "code",
   "execution_count": 70,
   "id": "4146c43f-f112-4a75-812c-5902db21ba1b",
   "metadata": {},
   "outputs": [],
   "source": [
    "orders = get_orders(main_df)"
   ]
  },
  {
   "cell_type": "code",
   "execution_count": 71,
   "id": "8a2d73e6-1fe4-43b3-b7dd-0557dbd4d012",
   "metadata": {},
   "outputs": [],
   "source": [
    "for asset in assets:\n",
    "    infos = [i for i in [parse_order(o, asset) for o in orders] if i] # filter out Nones\n",
    "    if len(infos):\n",
    "        #print(asset, infos)\n",
    "        jd = [ i.to_disposition().to_json_dict() for i in infos if i is not None]\n",
    "        #json.dumps(jd)\n",
    "        with open(filebase+f'-{asset}.json', 'w') as f:\n",
    "            data = json.dump(jd, f, indent=2)"
   ]
  },
  {
   "cell_type": "code",
   "execution_count": null,
   "id": "a19a9e96-f623-4ccb-9183-dca53b743753",
   "metadata": {},
   "outputs": [],
   "source": [
    "# TODO: Would it be better to write out empty, but valid, json files if there are no orders?"
   ]
  },
  {
   "cell_type": "code",
   "execution_count": null,
   "id": "8b9a1a47-5f9c-4b12-ac55-37bb2fd9eaa0",
   "metadata": {},
   "outputs": [],
   "source": [
    "\n"
   ]
  },
  {
   "cell_type": "code",
   "execution_count": null,
   "id": "5a0b66d9-7e02-4565-8a76-38d9ec013cb1",
   "metadata": {},
   "outputs": [],
   "source": []
  },
  {
   "cell_type": "code",
   "execution_count": 28,
   "id": "09211eb6-cf0a-417f-adf1-bd519486f22a",
   "metadata": {},
   "outputs": [],
   "source": [
    "# Working/testing/messing about starts here"
   ]
  },
  {
   "cell_type": "code",
   "execution_count": 29,
   "id": "4c65e339-1363-4ad8-b201-c07ce4efa891",
   "metadata": {},
   "outputs": [
    {
     "data": {
      "text/plain": [
       "['04561320-b7a3-43b8-8081-c3dcf34f647c',\n",
       " '0c47a2b1-f2ca-4ac9-b928-5e8acc24029d',\n",
       " '11958393-119c-4737-ac1f-f865953db679',\n",
       " '2b1acd83-fb60-48de-8b39-4ba79b74e939',\n",
       " '3e917f68-77b1-47f2-a280-c8a0f36a171e',\n",
       " '495c6586-5b9a-40a6-9fed-18630cbe5d53',\n",
       " '5203fd46-ce59-4dcd-9ba7-a04cc34bdf0a',\n",
       " '78d7ce41-741d-42a8-82a1-52f06a97dbed',\n",
       " '794a888e-c57e-4806-bdf5-9c98ff1adb25',\n",
       " '817fc1e6-5ae7-4f4e-a231-c78b61ff91eb',\n",
       " 'a512d5b9-6603-4d72-9806-44b83866feb8',\n",
       " 'd544051a-e72a-4014-aad2-5479e59744ea',\n",
       " 'f2b189e1-698c-423c-b39a-f77a0621e924',\n",
       " 'fd0858a7-4bdf-4278-8d9a-b4045740a32f']"
      ]
     },
     "execution_count": 29,
     "metadata": {},
     "output_type": "execute_result"
    }
   ],
   "source": [
    "[ o['order id'].values[0] for o in orders]"
   ]
  },
  {
   "cell_type": "code",
   "execution_count": null,
   "id": "81f53cfa-8317-42c3-86ea-3101aa979f25",
   "metadata": {},
   "outputs": [],
   "source": []
  },
  {
   "cell_type": "code",
   "execution_count": 169,
   "id": "abe20074-612d-4410-882a-ffa4ffac5185",
   "metadata": {},
   "outputs": [
    {
     "data": {
      "text/plain": [
       "{'order_id': '244e6454-dfab-4471-a5bb-a16ac416cdca',\n",
       " 'timestamp': 1449116799.73,\n",
       " 'unit_given': 'BTC',\n",
       " 'unit_received': 'USD',\n",
       " 'amount_given': -3.0,\n",
       " 'amount_received': 1102.5,\n",
       " 'unit_price': -0.0027210884353741495,\n",
       " 'fees': 0.0}"
      ]
     },
     "execution_count": 169,
     "metadata": {},
     "output_type": "execute_result"
    }
   ],
   "source": [
    "o = orders[2]\n",
    "infos[0].to_json_dict()"
   ]
  },
  {
   "cell_type": "code",
   "execution_count": 121,
   "id": "f2cb63e5-d521-4f09-881b-e43be0a80b6c",
   "metadata": {},
   "outputs": [],
   "source": [
    "#matches = o[o['type']=='match']\n",
    "#matches"
   ]
  },
  {
   "cell_type": "code",
   "execution_count": 131,
   "id": "27127aea-054a-46b8-b3a0-e424bbc1adb8",
   "metadata": {},
   "outputs": [
    {
     "data": {
      "text/plain": [
       "array(['BTC', 'USD'], dtype=object)"
      ]
     },
     "execution_count": 131,
     "metadata": {},
     "output_type": "execute_result"
    }
   ],
   "source": [
    "units = np.unique(o['amount/balance unit'].values)\n",
    "units"
   ]
  },
  {
   "cell_type": "code",
   "execution_count": 398,
   "id": "f4a2b0ce-1061-45d0-b270-64c4338ffa6d",
   "metadata": {},
   "outputs": [
    {
     "data": {
      "text/plain": [
       "'244e6454-dfab-4471-a5bb-a16ac416cdca'"
      ]
     },
     "execution_count": 398,
     "metadata": {},
     "output_type": "execute_result"
    }
   ],
   "source": [
    "o['order id'].values[0] # order id"
   ]
  },
  {
   "cell_type": "code",
   "execution_count": 136,
   "id": "400f118c-ea9e-4ed0-a4f0-c46e85599702",
   "metadata": {},
   "outputs": [
    {
     "data": {
      "text/plain": [
       "(-5.0, 1969.6914845000001)"
      ]
     },
     "execution_count": 136,
     "metadata": {},
     "output_type": "execute_result"
    }
   ],
   "source": [
    "mask0 = o['amount/balance unit'] == units[0]\n",
    "mask1 = o['amount/balance unit'] == units[1]\n",
    "o[mask0]['amount'].values.sum(),  o[mask1]['amount'].values.sum(),"
   ]
  },
  {
   "cell_type": "code",
   "execution_count": 400,
   "id": "be084070-52c7-4dce-a412-063697eb4e27",
   "metadata": {},
   "outputs": [
    {
     "data": {
      "text/plain": [
       "'USD'"
      ]
     },
     "execution_count": 400,
     "metadata": {},
     "output_type": "execute_result"
    }
   ],
   "source": [
    "o['amount/balance unit'].values[1] # currency used"
   ]
  },
  {
   "cell_type": "code",
   "execution_count": 401,
   "id": "a97d6076-f86e-446a-9240-ccbab716a9b2",
   "metadata": {},
   "outputs": [
    {
     "data": {
      "text/plain": [
       "Timestamp('2015-12-03 04:26:39.730000+0000', tz='UTC')"
      ]
     },
     "execution_count": 401,
     "metadata": {},
     "output_type": "execute_result"
    }
   ],
   "source": [
    "max(o['time']) # timestamp"
   ]
  },
  {
   "cell_type": "code",
   "execution_count": 402,
   "id": "027f6459-0e8a-4349-a89e-03df29fdb112",
   "metadata": {},
   "outputs": [],
   "source": [
    "btc_mask = o['amount/balance unit']=='BTC'"
   ]
  },
  {
   "cell_type": "code",
   "execution_count": 403,
   "id": "311d5640-0876-42a4-9fb5-5d37ea64ae11",
   "metadata": {},
   "outputs": [
    {
     "data": {
      "text/plain": [
       "-3.0"
      ]
     },
     "execution_count": 403,
     "metadata": {},
     "output_type": "execute_result"
    }
   ],
   "source": [
    "o[btc_mask]['amount'].sum() # amount of BTC"
   ]
  },
  {
   "cell_type": "code",
   "execution_count": 404,
   "id": "e3b5c580-03bd-4db5-b9d8-608b0a3afb94",
   "metadata": {},
   "outputs": [
    {
     "data": {
      "text/plain": [
       "1102.5"
      ]
     },
     "execution_count": 404,
     "metadata": {},
     "output_type": "execute_result"
    }
   ],
   "source": [
    "o[~btc_mask]['amount'].sum() # amount of $"
   ]
  },
  {
   "cell_type": "code",
   "execution_count": 405,
   "id": "1bb16b35-c471-4b54-8845-62245f8fa841",
   "metadata": {},
   "outputs": [
    {
     "data": {
      "text/plain": [
       "[1102.5,\n",
       " 4400.0,\n",
       " 1969.6914845000001,\n",
       " 4300.0,\n",
       " 3700.0,\n",
       " 4257.5,\n",
       " 4750.0,\n",
       " 1950.0,\n",
       " 9093.25]"
      ]
     },
     "execution_count": 405,
     "metadata": {},
     "output_type": "execute_result"
    }
   ],
   "source": [
    "[ o[o['amount/balance unit']!='BTC']['amount'].sum() for o in orders]"
   ]
  },
  {
   "cell_type": "code",
   "execution_count": 382,
   "id": "ffd377a1-7f7e-4541-a1eb-0e1edcc2467b",
   "metadata": {},
   "outputs": [],
   "source": [
    "mask1 = main_df['type']=='match'"
   ]
  },
  {
   "cell_type": "code",
   "execution_count": 383,
   "id": "b83a85b8-67b0-4180-8836-8ae2ccfafd2a",
   "metadata": {},
   "outputs": [],
   "source": [
    "mask2 = main_df['type']=='fee'"
   ]
  },
  {
   "cell_type": "code",
   "execution_count": null,
   "id": "6e44558f-f972-4b57-a92c-25632ba05521",
   "metadata": {},
   "outputs": [],
   "source": []
  },
  {
   "cell_type": "code",
   "execution_count": 384,
   "id": "98247452-4725-4930-8311-9732de8bc0f4",
   "metadata": {},
   "outputs": [
    {
     "data": {
      "text/plain": [
       "type\n",
       "True     100\n",
       "False     35\n",
       "Name: count, dtype: int64"
      ]
     },
     "execution_count": 384,
     "metadata": {},
     "output_type": "execute_result"
    }
   ],
   "source": [
    "mask1.value_counts()"
   ]
  },
  {
   "cell_type": "code",
   "execution_count": 385,
   "id": "cd082df6-1ce2-4f0b-b689-9fc52fbf3d5e",
   "metadata": {},
   "outputs": [
    {
     "data": {
      "text/plain": [
       "type\n",
       "False    117\n",
       "True      18\n",
       "Name: count, dtype: int64"
      ]
     },
     "execution_count": 385,
     "metadata": {},
     "output_type": "execute_result"
    }
   ],
   "source": [
    "mask2.value_counts()"
   ]
  },
  {
   "cell_type": "code",
   "execution_count": 390,
   "id": "4fc35f2c-b03c-4b0c-865f-79558d718070",
   "metadata": {},
   "outputs": [
    {
     "data": {
      "text/plain": [
       "(array([False,  True,  True, False, False,  True,  True, False, False,\n",
       "         True,  True,  True,  True, False,  True,  True, False, False,\n",
       "        False,  True,  True,  True,  True,  True,  True,  True,  True,\n",
       "         True,  True,  True,  True,  True,  True,  True,  True,  True,\n",
       "         True,  True,  True,  True,  True,  True,  True,  True,  True,\n",
       "         True,  True,  True,  True,  True,  True,  True,  True,  True,\n",
       "         True,  True,  True,  True,  True,  True,  True,  True,  True,\n",
       "         True,  True,  True,  True,  True,  True,  True,  True,  True,\n",
       "         True,  True,  True,  True,  True,  True,  True, False, False,\n",
       "         True,  True,  True,  True,  True,  True,  True,  True,  True,\n",
       "         True,  True,  True,  True,  True,  True,  True,  True,  True,\n",
       "         True,  True,  True,  True,  True,  True,  True,  True,  True,\n",
       "         True,  True,  True,  True,  True,  True,  True, False, False,\n",
       "         True,  True, False, False,  True,  True,  True,  True,  True,\n",
       "         True, False,  True,  True,  True,  True,  True,  True, False]),\n",
       " type\n",
       " True     118\n",
       " False     17\n",
       " Name: count, dtype: int64)"
      ]
     },
     "execution_count": 390,
     "metadata": {},
     "output_type": "execute_result"
    }
   ],
   "source": [
    "foo = mask1 | mask2\n",
    "foo.values, foo.value_counts()"
   ]
  },
  {
   "cell_type": "code",
   "execution_count": 387,
   "id": "2d0ff8a6-16e7-4388-a592-c9118612d01f",
   "metadata": {},
   "outputs": [
    {
     "data": {
      "text/plain": [
       "array([False,  True,  True, False, False,  True,  True, False, False,\n",
       "        True,  True,  True,  True, False,  True,  True, False, False,\n",
       "       False,  True,  True, False,  True,  True, False,  True,  True,\n",
       "       False,  True,  True, False,  True,  True, False,  True,  True,\n",
       "       False,  True,  True, False,  True,  True, False,  True,  True,\n",
       "       False,  True,  True, False,  True,  True, False,  True,  True,\n",
       "       False,  True,  True, False,  True,  True, False,  True,  True,\n",
       "       False,  True,  True, False,  True,  True, False,  True,  True,\n",
       "       False,  True,  True,  True,  True,  True,  True, False, False,\n",
       "        True,  True,  True,  True,  True,  True,  True,  True,  True,\n",
       "        True,  True,  True,  True,  True,  True,  True,  True,  True,\n",
       "        True,  True,  True,  True,  True,  True,  True,  True,  True,\n",
       "        True,  True,  True,  True,  True,  True,  True, False, False,\n",
       "        True,  True, False, False,  True,  True,  True,  True,  True,\n",
       "        True, False,  True,  True,  True,  True,  True,  True, False])"
      ]
     },
     "execution_count": 387,
     "metadata": {},
     "output_type": "execute_result"
    }
   ],
   "source": [
    "mask1.values"
   ]
  },
  {
   "cell_type": "code",
   "execution_count": 379,
   "id": "fee070ac-4ea4-42b4-a8ac-eaf14f1763b8",
   "metadata": {},
   "outputs": [
    {
     "data": {
      "text/plain": [
       "array([False, False, False, False, False, False, False, False, False,\n",
       "       False, False, False, False, False, False, False, False, False,\n",
       "       False, False, False,  True, False, False,  True, False, False,\n",
       "        True, False, False,  True, False, False,  True, False, False,\n",
       "        True, False, False,  True, False, False,  True, False, False,\n",
       "        True, False, False,  True, False, False,  True, False, False,\n",
       "        True, False, False,  True, False, False,  True, False, False,\n",
       "        True, False, False,  True, False, False,  True, False, False,\n",
       "        True, False, False, False, False, False, False, False, False,\n",
       "       False, False, False, False, False, False, False, False, False,\n",
       "       False, False, False, False, False, False, False, False, False,\n",
       "       False, False, False, False, False, False, False, False, False,\n",
       "       False, False, False, False, False, False, False, False, False,\n",
       "       False, False, False, False, False, False, False, False, False,\n",
       "       False, False, False, False, False, False, False, False, False])"
      ]
     },
     "execution_count": 379,
     "metadata": {},
     "output_type": "execute_result"
    }
   ],
   "source": [
    "mask2.values"
   ]
  },
  {
   "cell_type": "code",
   "execution_count": 391,
   "id": "6017d587-d4ed-4999-a87d-362c0958de66",
   "metadata": {},
   "outputs": [
    {
     "data": {
      "text/plain": [
       "array([False,  True,  True, False, False,  True,  True, False, False,\n",
       "        True,  True,  True,  True, False,  True,  True, False, False,\n",
       "       False,  True,  True,  True,  True,  True,  True,  True,  True,\n",
       "        True,  True,  True,  True,  True,  True,  True,  True,  True,\n",
       "        True,  True,  True,  True,  True,  True,  True,  True,  True,\n",
       "        True,  True,  True,  True,  True,  True,  True,  True,  True,\n",
       "        True,  True,  True,  True,  True,  True,  True,  True,  True,\n",
       "        True,  True,  True,  True,  True,  True,  True,  True,  True,\n",
       "        True,  True,  True,  True,  True,  True,  True, False, False,\n",
       "        True,  True,  True,  True,  True,  True,  True,  True,  True,\n",
       "        True,  True,  True,  True,  True,  True,  True,  True,  True,\n",
       "        True,  True,  True,  True,  True,  True,  True,  True,  True,\n",
       "        True,  True,  True,  True,  True,  True,  True, False, False,\n",
       "        True,  True, False, False,  True,  True,  True,  True,  True,\n",
       "        True, False,  True,  True,  True,  True,  True,  True, False])"
      ]
     },
     "execution_count": 391,
     "metadata": {},
     "output_type": "execute_result"
    }
   ],
   "source": [
    "foo.values"
   ]
  },
  {
   "cell_type": "code",
   "execution_count": null,
   "id": "a5220de6-6c8c-4a1c-9ada-9732b650555c",
   "metadata": {},
   "outputs": [],
   "source": []
  }
 ],
 "metadata": {
  "kernelspec": {
   "display_name": "Python 3 (ipykernel)",
   "language": "python",
   "name": "python3"
  },
  "language_info": {
   "codemirror_mode": {
    "name": "ipython",
    "version": 3
   },
   "file_extension": ".py",
   "mimetype": "text/x-python",
   "name": "python",
   "nbconvert_exporter": "python",
   "pygments_lexer": "ipython3",
   "version": "3.11.8"
  }
 },
 "nbformat": 4,
 "nbformat_minor": 5
}
