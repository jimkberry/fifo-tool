{
 "cells": [
  {
   "cell_type": "markdown",
   "id": "51e0c27c-584b-44dc-9a13-4da8a232217a",
   "metadata": {},
   "source": [
    "## Coinbase Trasaction Statement.\n",
    "Contains information regarding trsaction performed on the base Coinbase platform (not Coinbase Pro/GDAX)\n",
    "These include receipt or transfers of money or crypto, as well as any coinbase assisted trades/sales\n",
    "### How to get:\n",
    "- login to Coinbase.com\n",
    "- Go to: https://accounts.coinbase.com/profile \n",
    "- Select \"statements\"\n",
    "- Click on the \"transactions\" tab\n",
    "- \"Generate custom statement\" with:\n",
    "    - \"all assets\"\n",
    "    - \"all transactions\"\n",
    "    - Select the desired year"
   ]
  },
  {
   "cell_type": "markdown",
   "id": "54e462b9-3c09-4ed1-865b-1bc8dd535964",
   "metadata": {},
   "source": [
    "#### Record types\n",
    "\n",
    "What we are interested in here are:\n",
    "- BTC/ETH \"Receive\" - Receipt of new crypto (income) as an Acquisition - tho maybe also just a transfer into CB before a sale in cbrpo? One tip is that even-numbered values from an ext acct are probably from me.\n",
    "- BTC/ETH \"Withdrawl\" - implicit CB-assisted sale as a Disposition\n",
    "- BTC/ETH \"Send\" - maybe a payment (Disposition) or maybe just a transfer out of CB, which isn;t a disposition. We can't know so it gets exported as a disp and you have to decide in FIFO-toll what to do with it.\n",
    "\n",
    "Less directly interesting (we don;t do anything with them) are:\n",
    "\n",
    "- BTC/ETH \"Exchange Deposit\" - Crypto being sent to CBPro/GDAX - almost certainly to be sold - not exported\n",
    "- USD \"Exchange withdrawal\" - almost always right after the BTC Exchange deposit - is the cash from the sale - not exported\n",
    "- USD \"Withdrawal\" - usually the same amount as the exchange withdrawal, and right after it: the money being transferred to a bank - not exported\n",
    "\n",
    "...And there are new ones\n",
    "\n",
    "- Pro Deposit/Withdrawal - at some point in 2018 \"Pro\" deposits and withdrawal appeared. I think they are the same a \"Exchange\" ones? There are reports that have both - I'm just assuming they mean the same thing. We still don;t process them.\n",
    "- Buy - buy an asset on CB. *Acquisition*.\n",
    "- Convert - \"Convert\" an asset to another or cash - like \"USD\", which is just a sale. *Disposition* (unless the asset is the \"Price currency\" - but I'll bet that never happens. For now we'll check and makes sure it's ASSET -> USD and blow up otherwise.\n",
    "- Reward Income - Yikes! Ignore.\n",
    "- Advanced Trade Sell - GDAX/PRO is now \"Advanced\"? *Disposition*. This is not reflected in the year's PRO Account report, so there's no chance of duplication\n",
    "\n",
    "#### Notes\n",
    "\n",
    "Start by assuming \"receive\" is an acq, and \"send' and an asset \"withdrawl\" are always dispositions\n",
    "\n",
    "Now also process \"Buy\", \"Convert\", \"Advanced Sell Trade\"\n",
    "\n",
    "I guess we should flag anything unrecognized or unexpected. \n",
    "\n",
    "What about other assets? like an ETH tx when we are processing BTC. Shoudl we at least log it? Not doing it ATM\n",
    "\n",
    "Also - just as an aside - the records in these TX statements are ordered newest to oldest... which is weird.\n"
   ]
  },
  {
   "cell_type": "code",
   "execution_count": null,
   "id": "bcfe7c20-450f-4d41-ad94-d84d176ada40",
   "metadata": {},
   "outputs": [],
   "source": [
    "# allow import of local fifo-tool stuff\n",
    "from typing import List\n",
    "import os\n",
    "import sys\n",
    "sys.path.insert(0, os.path.abspath('../src'))"
   ]
  },
  {
   "cell_type": "code",
   "execution_count": null,
   "id": "a9fd89d2-9060-4174-82a6-da7cc9c26a8f",
   "metadata": {},
   "outputs": [],
   "source": [
    "from typing import Dict\n",
    "from datetime import datetime\n",
    "import json\n",
    "import numpy as np\n",
    "import pandas as pd\n",
    "\n",
    "from models.acquisition import Acquisition\n",
    "from models.disposition import Disposition\n",
    "from models.stash import Stash"
   ]
  },
  {
   "cell_type": "code",
   "execution_count": null,
   "id": "38e447d5-7fa7-4b59-9045-7d54f83f7872",
   "metadata": {},
   "outputs": [],
   "source": [
    "def read_statement_csv(file_path):\n",
    "    \"\"\"Read a coinbase transaction statement and return a pandas dataframe.\n",
    "        conversions done:\n",
    "            'time' - parsed into a datestamp\n",
    "            'trade id' - read as a string\n",
    "    \"\"\"\n",
    "    dol = lambda x: float(x.replace('$','')) # money fields seem to have $ signs...\n",
    "    date_flds = ['Timestamp']\n",
    "    dollar_flds = {'Price at Transaction':dol,'Subtotal':dol,'Total (inclusive of fees and/or spread)':dol,'Fees and/or Spread':dol}\n",
    "    forced_dtypes = {}\n",
    "    df =  pd.read_csv(file_path, skiprows=3, parse_dates=date_flds, converters=dollar_flds)\n",
    "    return df"
   ]
  },
  {
   "cell_type": "code",
   "execution_count": null,
   "id": "572d07ab-e53c-418f-9624-f0599a2e0ad4",
   "metadata": {},
   "outputs": [],
   "source": []
  },
  {
   "cell_type": "code",
   "execution_count": null,
   "id": "b7854abd-c042-4c82-ba53-b84fa826b4f1",
   "metadata": {},
   "outputs": [],
   "source": []
  },
  {
   "cell_type": "code",
   "execution_count": null,
   "id": "7cf474f2-377b-4c8c-b52e-17363182cbf7",
   "metadata": {},
   "outputs": [],
   "source": []
  },
  {
   "cell_type": "code",
   "execution_count": null,
   "id": "1144b130-8fa9-4beb-ba15-0ec318ff75b5",
   "metadata": {},
   "outputs": [],
   "source": [
    "# tx_type: Send, Receive, Withdrawal\n",
    "def parse_transactions(data, asset, tx_type):\n",
    "    type_mask = data[\"Transaction Type\"]==tx_type\n",
    "    asset_mask = data[\"Asset\"]==asset\n",
    "    return data[asset_mask & type_mask]    \n"
   ]
  },
  {
   "cell_type": "code",
   "execution_count": null,
   "id": "06f9b0fa-25ac-42c7-9c0a-14d86c05971b",
   "metadata": {},
   "outputs": [],
   "source": [
    "def rec_to_disposition(rec, asset) -> 'Disposition':\n",
    "    \"\"\" rec is a single file row as a dict keyed by column names \"\"\"\n",
    "    return Disposition(\n",
    "        rec['Timestamp'].timestamp(),\n",
    "        rec['Asset'] , # asset_type sold\n",
    "        rec['Quantity Transacted'], # asset_amount\n",
    "        rec['Price at Transaction'], # asset_price,\n",
    "        rec['Fees and/or Spread'] * - 1.0, # fees - reported by CB as negative. We want them positive\n",
    "        f\"CB Id: {rec['ID']}\", # reference\n",
    "        rec['Notes']\n",
    "    )\n",
    "\n",
    "def rec_to_acquisition(rec, asset) -> 'Acquisition':\n",
    "    return Acquisition(\n",
    "        rec['Timestamp'].timestamp(),\n",
    "        rec['Asset'], # asset_type bought/received\n",
    "        rec['Quantity Transacted'], # asset_amount\n",
    "        rec['Price at Transaction'], # asset_price,\n",
    "        rec['Fees and/or Spread'] * -1.0, # fees - \n",
    "        f\"Coinbase Id: {rec['ID']}\", # reference\n",
    "        f\"{rec['Notes']}\" #comment\n",
    "    )"
   ]
  },
  {
   "cell_type": "code",
   "execution_count": null,
   "id": "9135414d-f40f-4ff8-bf44-5b2e3744f45f",
   "metadata": {},
   "outputs": [],
   "source": [
    "def process_recs(src_df, asset):\n",
    "    # Receive\n",
    "    rcv_df =  parse_transactions(src_df, asset, 'Receive') # cryto receive *might* be an acquisition... or just a self-transfer\n",
    "    rcv_recs = [r for r in rcv_df.to_dict(orient='index').values()] # converts DataFrame into a list of dicts\n",
    "    # Send\n",
    "    send_df = parse_transactions(src_df, asset, 'Send') # crypto \"send\" _might_ be a disposition (payement, for instance)... of just self-xfer\n",
    "    send_recs = [r for r in send_df.to_dict(orient='index').values()] \n",
    "    # Withdrawal\n",
    "    wd_df = parse_transactions(src_df, asset, 'Withdrawal') # a crypto \"withdrawal\" from coinbase (not Pro) _is_ a sale/disposition\n",
    "    wd_recs = [r for r in wd_df.to_dict(orient='index').values()] \n",
    "    # Buy\n",
    "    buy_df = parse_transactions(src_df, asset, 'Buy') # 'Buy' is an acquisition\n",
    "    buy_recs = [r for r in buy_df.to_dict(orient='index').values()] \n",
    "    # Convert\n",
    "    cnv_df = parse_transactions(src_df, asset, 'Convert') # Assumes convert is converting FROM asset to USDC\n",
    "    cnv_recs = [r for r in cnv_df.to_dict(orient='index').values()]  # Disposition\n",
    "    # Advanced Sell Trade\n",
    "    ast_df = parse_transactions(src_df, asset, 'Advanced Trade Sell') # Sell\n",
    "    ast_recs = [r for r in ast_df.to_dict(orient='index').values()]  # Disposition\n",
    "    \n",
    "    acqs = [rec_to_acquisition(r, asset) for r in rcv_recs + buy_recs]\n",
    "    disps = [rec_to_disposition(r, asset) for r in send_recs + wd_recs + cnv_recs + ast_recs ] \n",
    "    return acqs, disps"
   ]
  },
  {
   "cell_type": "code",
   "execution_count": null,
   "id": "963b7bdd-c207-41e3-ad80-956edc305137",
   "metadata": {},
   "outputs": [],
   "source": [
    "\n",
    "def process_file( year: str, assets: List[str]) -> None:\n",
    "    filebase = f'local_data/coinbase-txs-{year}'\n",
    "    main_df = read_statement_csv(filebase+'.csv')\n",
    "    for asset in assets:\n",
    "        acqs, disps = process_recs(main_df, asset)\n",
    "        data = Stash(asset, f\"Coinbase  {asset} txs - {year}\", acqs, disps)\n",
    "         #json.dumps(jd)\n",
    "        with open(filebase+f'-{asset}.json', 'w') as f:\n",
    "            jd = data.to_json_dict()\n",
    "            json.dump(jd, f, indent=2)\n",
    "\n"
   ]
  },
  {
   "cell_type": "code",
   "execution_count": null,
   "id": "bc5cf695-f02e-4f66-b3b7-7d9bdb4a8598",
   "metadata": {},
   "outputs": [],
   "source": [
    "for yr in ['2015', '2016', '2017', '2018', '2019', '2020', '2021', '2022', '2023', '2024']:  \n",
    "    process_file(yr, ['BTC', 'ETH'] )  # there are probably other cryto assets, but I dont care at th moment"
   ]
  },
  {
   "cell_type": "code",
   "execution_count": null,
   "id": "0fc5d7d1-7878-4ec6-a913-cf0cb6cc1aef",
   "metadata": {},
   "outputs": [],
   "source": []
  },
  {
   "cell_type": "code",
   "execution_count": null,
   "id": "a42b4757-1941-4348-b3fb-a405bc21646b",
   "metadata": {},
   "outputs": [],
   "source": []
  },
  {
   "cell_type": "code",
   "execution_count": null,
   "id": "b9e384ac-b195-43ab-b52d-5b4cfed4c55b",
   "metadata": {},
   "outputs": [],
   "source": [
    "# work below here"
   ]
  },
  {
   "cell_type": "code",
   "execution_count": null,
   "id": "49d5c294-4668-433a-b2ed-f6095e5169eb",
   "metadata": {},
   "outputs": [],
   "source": [
    "recs = parse_transactions(main_df, \"BTC\", \"Receive\")"
   ]
  },
  {
   "cell_type": "code",
   "execution_count": null,
   "id": "ff4e4369-c6e8-4cfa-a484-ddd8f65ae39a",
   "metadata": {},
   "outputs": [],
   "source": [
    " # **** Take a multi-row DataFrame and write out a list of dicts keyed by column name\n",
    "[ i for i in recs.to_dict(orient='index').values()] "
   ]
  },
  {
   "cell_type": "markdown",
   "id": "962d89d6-38c4-4172-bfc3-1a11c8497957",
   "metadata": {},
   "source": [
    "# "
   ]
  },
  {
   "cell_type": "code",
   "execution_count": null,
   "id": "fd753e2b-5260-4153-9b46-5f429eea7186",
   "metadata": {},
   "outputs": [],
   "source": [
    "# deal with \"receive\" records\n",
    "btc_mask = main_df[\"Asset\"]=='BTC'\n",
    "eth_mask = main_df[\"Asset\"]=='ETH'\n",
    "usd_mask = main_df[\"Asset\"]=='USD'"
   ]
  },
  {
   "cell_type": "code",
   "execution_count": null,
   "id": "16028b24-8f92-464d-90b9-3068ece32666",
   "metadata": {},
   "outputs": [],
   "source": [
    "receive_mask = main_df[\"Transaction Type\"]==\"Receive\"\n",
    "main_df[receive_mask & btc_mask]\n",
    "#main_df[receive_mask]"
   ]
  },
  {
   "cell_type": "code",
   "execution_count": null,
   "id": "d1d17e8f-fbc4-475b-bc57-c1f821402004",
   "metadata": {},
   "outputs": [],
   "source": []
  },
  {
   "cell_type": "code",
   "execution_count": null,
   "id": "db06e3f2-d1fb-4271-a758-fc41124b19e0",
   "metadata": {},
   "outputs": [],
   "source": [
    "wd_mask = main_df[\"Transaction Type\"]==\"Withdrawal\"\n",
    "main_df[wd_mask]"
   ]
  },
  {
   "cell_type": "code",
   "execution_count": null,
   "id": "e3d7913f-ab1a-4fe3-89dd-3a3304536cb3",
   "metadata": {},
   "outputs": [],
   "source": []
  },
  {
   "cell_type": "code",
   "execution_count": null,
   "id": "6a4e15b0-3ea3-4a7d-bcf7-18fbe82fc893",
   "metadata": {},
   "outputs": [],
   "source": [
    "mask = main_df[\"Transaction Type\"]==\"Send\"\n",
    "main_df[mask]"
   ]
  },
  {
   "cell_type": "code",
   "execution_count": null,
   "id": "0b327416-515d-42c7-8f05-678f3411747e",
   "metadata": {},
   "outputs": [],
   "source": []
  }
 ],
 "metadata": {
  "kernelspec": {
   "display_name": "Python 3 (ipykernel)",
   "language": "python",
   "name": "python3"
  },
  "language_info": {
   "codemirror_mode": {
    "name": "ipython",
    "version": 3
   },
   "file_extension": ".py",
   "mimetype": "text/x-python",
   "name": "python",
   "nbconvert_exporter": "python",
   "pygments_lexer": "ipython3",
   "version": "3.11.8"
  }
 },
 "nbformat": 4,
 "nbformat_minor": 5
}
